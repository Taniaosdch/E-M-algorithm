{
 "cells": [
  {
   "cell_type": "code",
   "execution_count": 139,
   "id": "98aa8105-8b10-4f76-95f5-8b6b7617209c",
   "metadata": {
    "tags": []
   },
   "outputs": [],
   "source": [
    "suppressWarnings(suppressMessages({\n",
    "    library(tidyverse)\n",
    "    library(lme4)\n",
    "    library(effects)\n",
    "    library(gtsummary)\n",
    "    library(lubridate)\n",
    "    library(nlme)\n",
    "    library(sjPlot)\n",
    "    library(fastDummies)\n",
    "}))"
   ]
  },
  {
   "cell_type": "code",
   "execution_count": 7,
   "id": "0b2d47af-e0a3-4641-88cf-ce725c61985a",
   "metadata": {
    "tags": []
   },
   "outputs": [],
   "source": [
    "metrics_fit <- read.csv(\"~/datamining-analysis/osat/gitignore/metrics_fit_for_save.csv\")"
   ]
  },
  {
   "cell_type": "code",
   "execution_count": 8,
   "id": "1cdf11db-7e99-4a10-8b93-e903bfa38640",
   "metadata": {
    "tags": []
   },
   "outputs": [
    {
     "data": {
      "text/html": [
       "<style>\n",
       ".list-inline {list-style: none; margin:0; padding: 0}\n",
       ".list-inline>li {display: inline-block}\n",
       ".list-inline>li:not(:last-child)::after {content: \"\\00b7\"; padding: 0 .5ex}\n",
       "</style>\n",
       "<ol class=list-inline><li>106</li><li>6</li></ol>\n"
      ],
      "text/latex": [
       "\\begin{enumerate*}\n",
       "\\item 106\n",
       "\\item 6\n",
       "\\end{enumerate*}\n"
      ],
      "text/markdown": [
       "1. 106\n",
       "2. 6\n",
       "\n",
       "\n"
      ],
      "text/plain": [
       "[1] 106   6"
      ]
     },
     "metadata": {},
     "output_type": "display_data"
    }
   ],
   "source": [
    "metrics_fit <- metrics_fit %>%\n",
    "    group_by(BID, time_factor) %>%\n",
    "    slice_head()\n",
    "\n",
    "dim(metrics_fit)"
   ]
  },
  {
   "cell_type": "code",
   "execution_count": 9,
   "id": "0ce03a8b-dfa8-46f8-a73a-1fd77c4b48fd",
   "metadata": {
    "tags": []
   },
   "outputs": [],
   "source": [
    "metrics_fit$StudyGroup <- as.numeric(as.factor(metrics_fit$StudyGroup))\n",
    "metrics_fit$time_factor <- as.numeric(as.factor(metrics_fit$time_factor))"
   ]
  },
  {
   "cell_type": "markdown",
   "id": "c9b62413-b6ae-4a8d-b164-2fa4634e0f03",
   "metadata": {
    "jupyter": {
     "source_hidden": true
    },
    "tags": []
   },
   "source": [
    "$# time_factor = {1, 2, 3, 4}\n",
    "  StudyGroup = {1, 2}\n",
    "  Y = Hmotnost\n",
    "  BID = 1 , ... , 31 $"
   ]
  },
  {
   "cell_type": "markdown",
   "id": "7a931aa8-50c0-457b-94e1-6cba0fc76cd1",
   "metadata": {
    "tags": []
   },
   "source": [
    "#### time_factor = {1, 2, 3, 4}\n",
    "#### StudyGroup = {1, 2}\n",
    "####  Y = Hmotnost\n",
    "####  BID = 1 , ... , 31 "
   ]
  },
  {
   "cell_type": "code",
   "execution_count": 10,
   "id": "a678a331-dfe5-4e3b-b66a-546361987a27",
   "metadata": {},
   "outputs": [
    {
     "data": {
      "text/html": [
       "<table class=\"dataframe\">\n",
       "<caption>A grouped_df: 6 × 6</caption>\n",
       "<thead>\n",
       "\t<tr><th scope=col>X</th><th scope=col>BID</th><th scope=col>date</th><th scope=col>time_factor</th><th scope=col>StudyGroup</th><th scope=col>value1</th></tr>\n",
       "\t<tr><th scope=col>&lt;int&gt;</th><th scope=col>&lt;chr&gt;</th><th scope=col>&lt;chr&gt;</th><th scope=col>&lt;dbl&gt;</th><th scope=col>&lt;dbl&gt;</th><th scope=col>&lt;int&gt;</th></tr>\n",
       "</thead>\n",
       "<tbody>\n",
       "\t<tr><td> 1</td><td>505703/103</td><td>2021-07-12</td><td>1</td><td>1</td><td>108</td></tr>\n",
       "\t<tr><td>21</td><td>505703/103</td><td>2021-10-18</td><td>2</td><td>1</td><td> 98</td></tr>\n",
       "\t<tr><td>29</td><td>505703/103</td><td>2022-01-09</td><td>3</td><td>1</td><td> 95</td></tr>\n",
       "\t<tr><td>41</td><td>505703/103</td><td>2022-04-10</td><td>4</td><td>1</td><td> 97</td></tr>\n",
       "\t<tr><td>47</td><td>511218/169</td><td>2022-04-12</td><td>1</td><td>2</td><td>115</td></tr>\n",
       "\t<tr><td>92</td><td>511218/169</td><td>2022-07-12</td><td>2</td><td>2</td><td>115</td></tr>\n",
       "</tbody>\n",
       "</table>\n"
      ],
      "text/latex": [
       "A grouped\\_df: 6 × 6\n",
       "\\begin{tabular}{llllll}\n",
       " X & BID & date & time\\_factor & StudyGroup & value1\\\\\n",
       " <int> & <chr> & <chr> & <dbl> & <dbl> & <int>\\\\\n",
       "\\hline\n",
       "\t  1 & 505703/103 & 2021-07-12 & 1 & 1 & 108\\\\\n",
       "\t 21 & 505703/103 & 2021-10-18 & 2 & 1 &  98\\\\\n",
       "\t 29 & 505703/103 & 2022-01-09 & 3 & 1 &  95\\\\\n",
       "\t 41 & 505703/103 & 2022-04-10 & 4 & 1 &  97\\\\\n",
       "\t 47 & 511218/169 & 2022-04-12 & 1 & 2 & 115\\\\\n",
       "\t 92 & 511218/169 & 2022-07-12 & 2 & 2 & 115\\\\\n",
       "\\end{tabular}\n"
      ],
      "text/markdown": [
       "\n",
       "A grouped_df: 6 × 6\n",
       "\n",
       "| X &lt;int&gt; | BID &lt;chr&gt; | date &lt;chr&gt; | time_factor &lt;dbl&gt; | StudyGroup &lt;dbl&gt; | value1 &lt;int&gt; |\n",
       "|---|---|---|---|---|---|\n",
       "|  1 | 505703/103 | 2021-07-12 | 1 | 1 | 108 |\n",
       "| 21 | 505703/103 | 2021-10-18 | 2 | 1 |  98 |\n",
       "| 29 | 505703/103 | 2022-01-09 | 3 | 1 |  95 |\n",
       "| 41 | 505703/103 | 2022-04-10 | 4 | 1 |  97 |\n",
       "| 47 | 511218/169 | 2022-04-12 | 1 | 2 | 115 |\n",
       "| 92 | 511218/169 | 2022-07-12 | 2 | 2 | 115 |\n",
       "\n"
      ],
      "text/plain": [
       "  X  BID        date       time_factor StudyGroup value1\n",
       "1  1 505703/103 2021-07-12 1           1          108   \n",
       "2 21 505703/103 2021-10-18 2           1           98   \n",
       "3 29 505703/103 2022-01-09 3           1           95   \n",
       "4 41 505703/103 2022-04-10 4           1           97   \n",
       "5 47 511218/169 2022-04-12 1           2          115   \n",
       "6 92 511218/169 2022-07-12 2           2          115   "
      ]
     },
     "metadata": {},
     "output_type": "display_data"
    }
   ],
   "source": [
    "metrics_fit %>% head()"
   ]
  },
  {
   "cell_type": "code",
   "execution_count": 1603,
   "id": "dceef473-dbf9-4377-886d-8bb3504f317a",
   "metadata": {},
   "outputs": [
    {
     "name": "stderr",
     "output_type": "stream",
     "text": [
      "\u001b[1m\u001b[22m`geom_smooth()` using formula = 'y ~ x'\n"
     ]
    },
    {
     "data": {
      "image/png": "[encoded data removed]",
      "text/plain": [
       "plot without title"
      ]
     },
     "metadata": {
      "image/png": {
       "height": 420,
       "width": 600
      }
     },
     "output_type": "display_data"
    }
   ],
   "source": [
    "options(repr.plot.width=10, repr.plot.height=7)\n",
    "\n",
    "ggplot(metrics_fit, aes(x=time_factor,y=value1)) + \n",
    "    geom_smooth(method = \"lm\") + \n",
    "    geom_point() +\n",
    "    ylab(\"Hmotnost\")"
   ]
  },
  {
   "cell_type": "code",
   "execution_count": 1613,
   "id": "2d6e90ea-1575-4c91-898b-bd919ea2c35d",
   "metadata": {
    "tags": []
   },
   "outputs": [
    {
     "data": {
      "text/plain": [
       "\n",
       "Call:\n",
       "lm(formula = value1 ~ 1, data = metrics_fit)\n",
       "\n",
       "Residuals:\n",
       "    Min      1Q  Median      3Q     Max \n",
       "-33.802  -6.802   0.198   9.698  46.198 \n",
       "\n",
       "Coefficients:\n",
       "            Estimate Std. Error t value Pr(>|t|)    \n",
       "(Intercept)  103.802      1.562   66.47   <2e-16 ***\n",
       "---\n",
       "Signif. codes:  0 ‘***’ 0.001 ‘**’ 0.01 ‘*’ 0.05 ‘.’ 0.1 ‘ ’ 1\n",
       "\n",
       "Residual standard error: 16.08 on 105 degrees of freedom\n"
      ]
     },
     "metadata": {},
     "output_type": "display_data"
    }
   ],
   "source": [
    "# OLS \n",
    "ols <- lm(value1 ~ 1, metrics_fit)\n",
    "summary(ols)\n",
    "\n",
    "# paste(\"Mean weight = \", mean(metrics_fit$value1))"
   ]
  },
  {
   "cell_type": "markdown",
   "id": "15496a9d-4a34-452f-b007-8e750614d965",
   "metadata": {},
   "source": [
    "##### $$ b = (X^{T}X)^{-1}X^{T}y $$"
   ]
  },
  {
   "cell_type": "code",
   "execution_count": 1629,
   "id": "9505bbc7-3a72-4e44-8680-4c78b7562069",
   "metadata": {
    "tags": []
   },
   "outputs": [
    {
     "name": "stderr",
     "output_type": "stream",
     "text": [
      "\u001b[1m\u001b[22mAdding missing grouping variables: `BID`, `time_factor`\n"
     ]
    },
    {
     "data": {
      "text/html": [
       "<table class=\"dataframe\">\n",
       "<caption>A matrix: 1 × 1 of type dbl</caption>\n",
       "<tbody>\n",
       "\t<tr><td>103.8019</td></tr>\n",
       "</tbody>\n",
       "</table>\n"
      ],
      "text/latex": [
       "A matrix: 1 × 1 of type dbl\n",
       "\\begin{tabular}{l}\n",
       "\t 103.8019\\\\\n",
       "\\end{tabular}\n"
      ],
      "text/markdown": [
       "\n",
       "A matrix: 1 × 1 of type dbl\n",
       "\n",
       "| 103.8019 |\n",
       "\n"
      ],
      "text/plain": [
       "     [,1]    \n",
       "[1,] 103.8019"
      ]
     },
     "metadata": {},
     "output_type": "display_data"
    }
   ],
   "source": [
    "# maticovy vypocet interceptu b0\n",
    "\n",
    "Y = as.matrix(metrics_fit %>%\n",
    "                select(value1) %>% pull)\n",
    "X = as.matrix(rep(1, length(Y)))\n",
    "b0 = solve(t(X) %*% X) %*% t(X) %*% Y \n",
    "\n",
    "b0"
   ]
  },
  {
   "cell_type": "markdown",
   "id": "167898b0-29da-423c-9ee7-69c2f4bd0840",
   "metadata": {},
   "source": [
    "#### $$ t = \\frac{b_{0}}{ SE } $$\n",
    "##### $$ SE = \\sqrt{var(e)*(X^{T}X)^{-1} } $$"
   ]
  },
  {
   "cell_type": "code",
   "execution_count": 1622,
   "id": "58e91c26-0eb7-4294-95e6-99fa520bf9f7",
   "metadata": {
    "tags": []
   },
   "outputs": [
    {
     "data": {
      "text/html": [
       "<span style=white-space:pre-wrap>'t =  66.4748234525267'</span>"
      ],
      "text/latex": [
       "'t =  66.4748234525267'"
      ],
      "text/markdown": [
       "<span style=white-space:pre-wrap>'t =  66.4748234525267'</span>"
      ],
      "text/plain": [
       "[1] \"t =  66.4748234525267\""
      ]
     },
     "metadata": {},
     "output_type": "display_data"
    }
   ],
   "source": [
    "e = Y - X %*% b0\n",
    "SE = sqrt(var(e) %*% solve(t(X) %*% X))\n",
    "t = b0 / SE\n",
    "paste(\"t = \", t)"
   ]
  },
  {
   "cell_type": "code",
   "execution_count": 16,
   "id": "050494a4-961d-41d6-9af2-bace71f8a9c8",
   "metadata": {
    "tags": []
   },
   "outputs": [
    {
     "data": {
      "image/png": "[encoded data removed]",
      "text/plain": [
       "Plot with title “Histogram of error terms”"
      ]
     },
     "metadata": {
      "image/png": {
       "height": 300,
       "width": 300
      }
     },
     "output_type": "display_data"
    }
   ],
   "source": [
    "options(repr.plot.width=5, repr.plot.height=5)\n",
    "\n",
    "hist(e, main = \"Histogram of error terms\", xlab = \"\")"
   ]
  },
  {
   "cell_type": "markdown",
   "id": "d3e5a571-2518-4926-9650-bdbe2ec1c9ab",
   "metadata": {},
   "source": [
    " #### Mixed models\n",
    " \n",
    " $$ Y = Xb + ZU + e $$"
   ]
  },
  {
   "cell_type": "markdown",
   "id": "832bb939-ab93-45bb-a20b-2dd0b9b701a8",
   "metadata": {},
   "source": [
    " $$ Y \\sim N(Xb, \\sigma^{2}I + ZDZ^{T}) $$\n",
    " \n",
    "  $$ e \\sim N(0, \\sigma^{2}) $$\n",
    "  \n",
    "   $$ u \\sim N(0, D) $$"
   ]
  },
  {
   "cell_type": "markdown",
   "id": "d64a65c7-a0b4-474e-9bf4-c26e629943ba",
   "metadata": {},
   "source": [
    "####  1. For each BID calulate random intercept (ML method) as follows:\n",
    "\n",
    "##### $$ u_{i} = D Z_{i}^{T} V^{-1}_{i} e_{i} $$\n",
    "##### $ i $ = number of values for each BID"
   ]
  },
  {
   "cell_type": "code",
   "execution_count": 1915,
   "id": "6da47439-0ea3-401c-a26f-5d8a7566e4c2",
   "metadata": {
    "tags": []
   },
   "outputs": [
    {
     "name": "stderr",
     "output_type": "stream",
     "text": [
      "\u001b[1m\u001b[22m`geom_smooth()` using formula = 'y ~ x'\n",
      "Warning message in qt((1 - level)/2, df):\n",
      "“NaNs produced”\n",
      "Warning message in qt((1 - level)/2, df):\n",
      "“NaNs produced”\n",
      "Warning message in qt((1 - level)/2, df):\n",
      "“NaNs produced”\n",
      "Warning message in max(ids, na.rm = TRUE):\n",
      "“no non-missing arguments to max; returning -Inf”\n",
      "Warning message in max(ids, na.rm = TRUE):\n",
      "“no non-missing arguments to max; returning -Inf”\n",
      "Warning message in max(ids, na.rm = TRUE):\n",
      "“no non-missing arguments to max; returning -Inf”\n"
     ]
    },
    {
     "data": {
      "image/png": "[encoded data removed]",
      "text/plain": [
       "plot without title"
      ]
     },
     "metadata": {
      "image/png": {
       "height": 600,
       "width": 900
      }
     },
     "output_type": "display_data"
    }
   ],
   "source": [
    "options(repr.plot.width=15, repr.plot.height=10)\n",
    "\n",
    "ggplot(metrics_fit, aes(x=time_factor,y=value1)) + \n",
    "    geom_smooth(method = \"lm\") + \n",
    "    geom_point() + \n",
    "    facet_wrap(~BID) "
   ]
  },
  {
   "cell_type": "markdown",
   "id": "aca4d14c-3ff6-438f-adf4-6edec987332b",
   "metadata": {
    "tags": []
   },
   "source": [
    "### EM algorithm"
   ]
  },
  {
   "cell_type": "markdown",
   "id": "9ed8e27b-5e36-48f9-bd76-8911d891bce8",
   "metadata": {},
   "source": [
    "#### E - step"
   ]
  },
  {
   "cell_type": "code",
   "execution_count": null,
   "id": "74538346-2f6a-4f9b-9596-5ae7297539af",
   "metadata": {
    "tags": []
   },
   "outputs": [],
   "source": [
    "# set priors (E-step):\n",
    "\n",
    "b = 0 \n",
    "sigma = 1 \n",
    "D = matrix(1) "
   ]
  },
  {
   "cell_type": "markdown",
   "id": "6016451c-c9e0-449a-9db7-4d64a7945afe",
   "metadata": {},
   "source": [
    "#### M - step\n",
    "\n",
    "\n",
    "##### $$ b_{t+1} = (\\sum X_{i}^{T} W_{i} X_{i})^{-1}\\sum (X_{i}^{T} W_{i} y_{i}) $$\n",
    "\n",
    "##### $$ D_{t+1} = (\\sum u_{t}u_{t}^{T} + D(I - Z_{t}^{T} W_{t} Z_{t} D_{t}) $$\n",
    "\n",
    "\n",
    "##### $$ sigma_{t+1} = \\frac{ \\sum(e_{t}e_{t}^{T} + sigma_{t} tr(I - sigma_{t} W_{t})}{N}  $$\n"
   ]
  },
  {
   "cell_type": "code",
   "execution_count": 1916,
   "id": "128425e9-12ae-41a0-8248-edafc041feef",
   "metadata": {
    "tags": []
   },
   "outputs": [],
   "source": [
    "# for BID 1 estimate random intercept\n",
    "\n",
    "# Y = as.matrix(metrics_fit %>% \n",
    "#                 filter(BID == unique(BID)[1]) %>% \n",
    "#                 select(value1) %>% pull)\n",
    "\n",
    "\n",
    "# X = rep(1, length(Y)) # 1 x 46\n",
    "# Z = rep(1, length(Y)) # 1 x 46 \n",
    "# I = diag(length(Y)) # 46 x 46\n",
    "\n",
    "# V = sigma * I + Z %*% D %*% t(Z) # 46 x 46 \n",
    "# W = solve(V)\n",
    "\n",
    "\n",
    "# r = Y - (X) %*% t(b) # (y - Xb) residual from ols r=Y\n",
    "# # calculate random intercept for BID1\n",
    "# u = D %*% t(Z) %*% W %*% r\n",
    "# u\n",
    "#   e = r - (Z %*% u) \n",
    "  \n",
    "#   # for b recalculation \n",
    "#   cov_list = c(cov_list, t(X) %*% W %*% Y)\n",
    "#   var_list = c(var_list, t(X) %*% W %*% X) # (3.3)\n",
    "  \n",
    "#   # for sigma and D recalculation \n",
    "#   sigma_list = c(sigma_list, t(e) %*% e + sigma * sum(diag(I - sigma * W)))\n",
    "#   D_list = c(D_list, u %*% t(u) + D * (diag(1) - t(Z) %*% W %*% Z %*% D))"
   ]
  },
  {
   "cell_type": "code",
   "execution_count": 232,
   "id": "f8d71b5b-28cf-4815-9971-2985fa097dad",
   "metadata": {
    "tags": []
   },
   "outputs": [],
   "source": []
  },
  {
   "cell_type": "markdown",
   "id": "9fb663c9-e30f-4db2-9b59-88ec237bcff1",
   "metadata": {},
   "source": [
    "#### In a same way estimate random intercept for each BID with priors (b=0, sigma = 1, D = matrix(1)).\n",
    "#### Saving each random intercept $ u_{i} $ and residual variance $ e_{ij} $, \n",
    "#### where $ i $ = 1, ... , 31"
   ]
  },
  {
   "cell_type": "code",
   "execution_count": 1920,
   "id": "a0724c1d-9c3f-450f-b7f6-7a9cca4301bc",
   "metadata": {
    "tags": []
   },
   "outputs": [],
   "source": [
    "# ML\n",
    "# loop across every BID\n",
    "  \n",
    "D = matrix(1)\n",
    "sigma = 1\n",
    "b = 0\n",
    "\n",
    "b_values <- c()\n",
    "sigma_values <- c()\n",
    "D_values <- c()\n",
    "\n",
    "bids <- unique(metrics_fit$BID)"
   ]
  },
  {
   "cell_type": "code",
   "execution_count": 1921,
   "id": "5c8c0d9e-522e-4afc-b142-d54771375b8e",
   "metadata": {
    "tags": []
   },
   "outputs": [],
   "source": [
    "n = 10\n",
    "\n",
    "for (j in 1:n) { \n",
    "    \n",
    "  sigma_list <- c()\n",
    "  D_list <- c()\n",
    "  cov_list <- c()\n",
    "  var_list <- c()\n",
    "  \n",
    "for (bid in 1:length(unique(metrics_fit$BID))) {\n",
    "  \n",
    "  Y = as.matrix((metrics_fit %>% \n",
    "                filter(BID == bids[bid]))$value1)\n",
    "\n",
    "  X = matrix(rep(1,nrow(Y)))\n",
    "  Z = rep(1, nrow(Y))\n",
    "  I = diag(nrow(Y))\n",
    "  \n",
    "  V = sigma * I + Z %*% D %*% t(Z)\n",
    "  W =  solve(V)\n",
    "  \n",
    "  r = Y - (X) %*% t(b) # (y - Xb)\n",
    "  u = D %*% t(Z) %*% W %*% r # (3.2) (u = r in a balanced dataset)\n",
    "  e = r - (Z %*% u) \n",
    "  \n",
    "  # for b recalculation \n",
    "  cov_list = c(cov_list, t(X) %*% W %*% Y)\n",
    "  var_list = c(var_list, t(X) %*% W %*% X) # (3.3)\n",
    "  \n",
    "  # for sigma and D recalculation \n",
    "  sigma_list = c(sigma_list, t(e) %*% e + sigma * sum(diag(I - sigma * W)))\n",
    "  D_list = c(D_list, u %*% t(u) + D * (diag(1) - t(Z) %*% W %*% Z %*% D)) #  D * (diag(1) - t(Z) %*% W %*% Z %*% D) = 0 in a balanced dataset\n",
    "\n",
    "}\n",
    "    \n",
    "# recalculate b\n",
    "b = solve(sum(var_list)) %*% sum(cov_list)\n",
    "# and recalculate sigma\n",
    "sigma = sum(sigma_list)/nrow(metrics_fit)\n",
    "# and recalculate D\n",
    "D = diag(sum(D_list)/length(D_list), 1)\n",
    "    \n",
    "\n",
    "b_values[j] = b\n",
    "sigma_values[j] = sigma\n",
    "D_values[j] = D\n",
    "}"
   ]
  },
  {
   "cell_type": "code",
   "execution_count": 1922,
   "id": "65e0fe22-f038-4951-a3d3-2261a9e75a65",
   "metadata": {
    "tags": []
   },
   "outputs": [
    {
     "data": {
      "text/html": [
       "<style>\n",
       ".list-inline {list-style: none; margin:0; padding: 0}\n",
       ".list-inline>li {display: inline-block}\n",
       ".list-inline>li:not(:last-child)::after {content: \"\\00b7\"; padding: 0 .5ex}\n",
       "</style>\n",
       "<ol class=list-inline><li>243.055964309044</li><li>10.8673443518054</li><li>104.160312829186</li></ol>\n"
      ],
      "text/latex": [
       "\\begin{enumerate*}\n",
       "\\item 243.055964309044\n",
       "\\item 10.8673443518054\n",
       "\\item 104.160312829186\n",
       "\\end{enumerate*}\n"
      ],
      "text/markdown": [
       "1. 243.055964309044\n",
       "2. 10.8673443518054\n",
       "3. 104.160312829186\n",
       "\n",
       "\n"
      ],
      "text/plain": [
       "[1] 243.05596  10.86734 104.16031"
      ]
     },
     "metadata": {},
     "output_type": "display_data"
    }
   ],
   "source": [
    "c(D, sigma, b) "
   ]
  },
  {
   "cell_type": "code",
   "execution_count": 1711,
   "id": "dffa5dd9-c207-4e4e-ba3e-6c905fa40d35",
   "metadata": {
    "tags": []
   },
   "outputs": [
    {
     "data": {
      "text/plain": [
       "Linear mixed model fit by maximum likelihood  ['lmerMod']\n",
       "Formula: value1 ~ 1 + (1 | BID)\n",
       "   Data: metrics_fit\n",
       "\n",
       "     AIC      BIC   logLik deviance df.resid \n",
       "   692.3    700.3   -343.2    686.3      103 \n",
       "\n",
       "Scaled residuals: \n",
       "     Min       1Q   Median       3Q      Max \n",
       "-1.57609 -0.52824 -0.09361  0.28133  2.67231 \n",
       "\n",
       "Random effects:\n",
       " Groups   Name        Variance Std.Dev.\n",
       " BID      (Intercept) 243.07   15.591  \n",
       " Residual              10.86    3.295  \n",
       "Number of obs: 106, groups:  BID, 31\n",
       "\n",
       "Fixed effects:\n",
       "            Estimate Std. Error t value\n",
       "(Intercept)  104.160      2.822   36.91"
      ]
     },
     "metadata": {},
     "output_type": "display_data"
    }
   ],
   "source": [
    "summary(lmer.mod.ML)"
   ]
  },
  {
   "cell_type": "code",
   "execution_count": 1923,
   "id": "d6915c8a-0c87-4b63-afc9-d1871aaa4952",
   "metadata": {
    "tags": []
   },
   "outputs": [
    {
     "data": {
      "image/png": "[encoded data removed]",
      "text/plain": [
       "plot without title"
      ]
     },
     "metadata": {
      "image/png": {
       "height": 300,
       "width": 360
      }
     },
     "output_type": "display_data"
    },
    {
     "data": {
      "image/png": "[encoded data removed]",
      "text/plain": [
       "plot without title"
      ]
     },
     "metadata": {
      "image/png": {
       "height": 300,
       "width": 360
      }
     },
     "output_type": "display_data"
    },
    {
     "data": {
      "image/png": "[encoded data removed]",
      "text/plain": [
       "plot without title"
      ]
     },
     "metadata": {
      "image/png": {
       "height": 300,
       "width": 360
      }
     },
     "output_type": "display_data"
    }
   ],
   "source": [
    "options(repr.plot.width=6, repr.plot.height=5)\n",
    "\n",
    "plot(1:n, b_values, type=\"l\")\n",
    "abline(h=b, col='red')\n",
    "plot(1:n, sigma_values, type=\"l\")\n",
    "abline(h=sigma(lmer.mod.ML)^2, col='red')\n",
    "plot(1:n, D_values, type=\"l\")\n",
    "abline(h=VarCorr(lmer.mod.ML)[[1]]%>% as.vector(), col='red')"
   ]
  },
  {
   "cell_type": "code",
   "execution_count": 1645,
   "id": "97ae37e1-363a-402d-95e2-9b664827ffaf",
   "metadata": {
    "tags": []
   },
   "outputs": [],
   "source": [
    "# REML\n",
    "# loop across every BID\n",
    "  \n",
    "D = matrix(1)\n",
    "sigma = 1\n",
    "b = 0\n",
    "\n",
    "b_values <- c()\n",
    "sigma_values <- c()\n",
    "D_values <- c()"
   ]
  },
  {
   "cell_type": "code",
   "execution_count": 1646,
   "id": "8b9b082f-8866-4df8-9b94-034ec1ca79f5",
   "metadata": {
    "tags": []
   },
   "outputs": [],
   "source": [
    "n = 10\n",
    "\n",
    "for (j in 1:n) { \n",
    "    \n",
    "  sigma_list <- c()\n",
    "  D_list <- c()\n",
    "  cov_list <- c()\n",
    "  var_list <- c()\n",
    "  \n",
    "for (bid in 1:length(unique(metrics_fit$BID))) {\n",
    "  \n",
    "  Y = as.matrix((metrics_fit %>% \n",
    "                filter(BID == bids[bid]))$value1)\n",
    "\n",
    "  X = as.matrix(rep(1,nrow(Y)))\n",
    "  Z = rep(1, nrow(Y))\n",
    "  I = diag(nrow(Y))\n",
    "  \n",
    "  V = sigma * I + Z %*% D %*% t(Z)\n",
    "  W =  solve(V)\n",
    "  P = W %*% (I - X %*% solve(sum(t(X) %*% W %*% X)) %*% t(X) %*% W) # (3.10)\n",
    "  # P = W - W %*% X %*% solve(sum(t(X) %*% W %*% X)) %*% t(X) %*% W # (3.10)\n",
    " \n",
    "  r = Y - (X) %*% t(b) # (y - Xb)\n",
    "  u = D %*% t(Z) %*% P %*% r # (3.2)\n",
    "  e = r - (Z %*% u) \n",
    "  \n",
    "  # for b recalculation \n",
    "  cov_list = c(cov_list, t(X) %*% W %*% Y)\n",
    "  var_list = c(var_list, t(X) %*% W %*% X) # (3.3)\n",
    "  \n",
    "  # for sigma and D recalculation \n",
    "  sigma_list = c(sigma_list, t(e) %*% e + sigma * sum(diag(I - sigma * P)))\n",
    "  D_list = c(D_list, u %*% t(u) + D %*% (diag(1) - t(Z) %*% P %*% Z %*% D)) \n",
    "}\n",
    "    \n",
    "# recalculate b\n",
    "b = solve(sum(var_list)) %*% sum(cov_list)\n",
    "# and recalculate sigma\n",
    "sigma = sum(sigma_list)/nrow(metrics_fit)\n",
    "# and recalculate D\n",
    "D = diag(sum(D_list)/length(bid), 1)\n",
    "    \n",
    "\n",
    "b_values[j] = b\n",
    "sigma_values[j] = sigma\n",
    "D_values[j] = D\n",
    "}"
   ]
  },
  {
   "cell_type": "code",
   "execution_count": 1647,
   "id": "06bfe757-6c05-4b84-92c9-79ec122e26df",
   "metadata": {
    "tags": []
   },
   "outputs": [
    {
     "data": {
      "text/html": [
       "<style>\n",
       ".list-inline {list-style: none; margin:0; padding: 0}\n",
       ".list-inline>li {display: inline-block}\n",
       ".list-inline>li:not(:last-child)::after {content: \"\\00b7\"; padding: 0 .5ex}\n",
       "</style>\n",
       "<ol class=list-inline><li>819625810247956</li><li>362.221203545176</li><li>104.180068271189</li></ol>\n"
      ],
      "text/latex": [
       "\\begin{enumerate*}\n",
       "\\item 819625810247956\n",
       "\\item 362.221203545176\n",
       "\\item 104.180068271189\n",
       "\\end{enumerate*}\n"
      ],
      "text/markdown": [
       "1. 819625810247956\n",
       "2. 362.221203545176\n",
       "3. 104.180068271189\n",
       "\n",
       "\n"
      ],
      "text/plain": [
       "[1] 8.196258e+14 3.622212e+02 1.041801e+02"
      ]
     },
     "metadata": {},
     "output_type": "display_data"
    }
   ],
   "source": [
    "c(D, sigma, b)"
   ]
  },
  {
   "cell_type": "markdown",
   "id": "1bbaaeb3-994e-442d-bfef-14c941047a3d",
   "metadata": {
    "tags": []
   },
   "source": [
    "#### $$ P = W (I - X \\sum(X^{T}WX)^{-1}X^{T}W $$"
   ]
  },
  {
   "cell_type": "code",
   "execution_count": 1648,
   "id": "9292efde-1b7b-4dd2-ad8c-3c8d01028b3c",
   "metadata": {
    "tags": []
   },
   "outputs": [
    {
     "data": {
      "image/png": "[encoded data removed]",
      "text/plain": [
       "plot without title"
      ]
     },
     "metadata": {
      "image/png": {
       "height": 420,
       "width": 600
      }
     },
     "output_type": "display_data"
    },
    {
     "data": {
      "image/png": "[encoded data removed]",
      "text/plain": [
       "plot without title"
      ]
     },
     "metadata": {
      "image/png": {
       "height": 420,
       "width": 600
      }
     },
     "output_type": "display_data"
    },
    {
     "data": {
      "image/png": "[encoded data removed]",
      "text/plain": [
       "plot without title"
      ]
     },
     "metadata": {
      "image/png": {
       "height": 420,
       "width": 600
      }
     },
     "output_type": "display_data"
    }
   ],
   "source": [
    "plot(1:n, b_values, type=\"l\")\n",
    "abline(h=b, col='red')\n",
    "plot(1:n, sigma_values, type=\"l\")\n",
    "abline(h=sigma(lmer.mod.REML)^2, col='red')\n",
    "plot(1:n, D_values, type=\"l\")\n",
    "abline(h=VarCorr(lmer.mod.REML)[[1]]%>% as.vector(), col='red')"
   ]
  },
  {
   "cell_type": "code",
   "execution_count": 1924,
   "id": "62a6e336-97e4-4c5b-80f8-5bd09596b953",
   "metadata": {
    "tags": []
   },
   "outputs": [],
   "source": [
    "# ML\n",
    "# rucne\n",
    "  \n",
    "D = matrix(1)\n",
    "sigma = 1\n",
    "b = 0\n",
    "\n",
    "b_values <- c()\n",
    "sigma_values <- c()\n",
    "D_values <- c()"
   ]
  },
  {
   "cell_type": "code",
   "execution_count": 1937,
   "id": "79b41131-5520-40b5-adfd-a29abbbc5bd7",
   "metadata": {
    "tags": []
   },
   "outputs": [
    {
     "data": {
      "text/html": [
       "'(ML) sigma = 10.8595534260243'"
      ],
      "text/latex": [
       "'(ML) sigma = 10.8595534260243'"
      ],
      "text/markdown": [
       "'(ML) sigma = 10.8595534260243'"
      ],
      "text/plain": [
       "[1] \"(ML) sigma = 10.8595534260243\""
      ]
     },
     "metadata": {},
     "output_type": "display_data"
    },
    {
     "data": {
      "text/html": [
       "'(ML) b = 104.160361480628'"
      ],
      "text/latex": [
       "'(ML) b = 104.160361480628'"
      ],
      "text/markdown": [
       "'(ML) b = 104.160361480628'"
      ],
      "text/plain": [
       "[1] \"(ML) b = 104.160361480628\""
      ]
     },
     "metadata": {},
     "output_type": "display_data"
    },
    {
     "data": {
      "text/html": [
       "'(ML) D = 243.064939992393'"
      ],
      "text/latex": [
       "'(ML) D = 243.064939992393'"
      ],
      "text/markdown": [
       "'(ML) D = 243.064939992393'"
      ],
      "text/plain": [
       "[1] \"(ML) D = 243.064939992393\""
      ]
     },
     "metadata": {},
     "output_type": "display_data"
    }
   ],
   "source": [
    "sigma_list <- c()\n",
    "D_list <- c()\n",
    "cov_list <- c()\n",
    "var_list <- c()\n",
    "  \n",
    "for (bid in 1:length(unique(metrics_fit$BID))) {\n",
    "  \n",
    "  Y = as.matrix((metrics_fit %>% \n",
    "                filter(BID == bids[bid]))$value1)\n",
    "\n",
    "  X = as.matrix(rep(1,nrow(Y)))\n",
    "  Z = rep(1, nrow(Y))\n",
    "  I = diag(nrow(Y))\n",
    "  \n",
    "  V = sigma * I + Z %*% D %*% t(Z)\n",
    "  W =  solve(V)\n",
    "  \n",
    "  r = Y - (X) %*% t(b) # (y - Xb)\n",
    "  u = D %*% t(Z) %*% W %*% r # (3.2)\n",
    "  e = r - (Z %*% u) \n",
    "  \n",
    "  # for b recalculation \n",
    "  cov_list = c(cov_list, t(X) %*% W %*% Y)\n",
    "  var_list = c(var_list, t(X) %*% W %*% X) # (3.3)\n",
    "  \n",
    "  # for sigma and D recalculation \n",
    "  sigma_list = c(sigma_list, t(e) %*% e + sigma * sum(diag(I - sigma * W)))\n",
    "  D_list = c(D_list, u %*% t(u) + D * (diag(1) - t(Z) %*% W %*% Z %*% D))\n",
    "\n",
    "}\n",
    "    \n",
    "# recalculate b\n",
    "b = solve(sum(var_list)) %*% sum(cov_list)\n",
    "# and recalculate sigma\n",
    "sigma = sum(sigma_list)/nrow(metrics_fit)\n",
    "# and recalculate D\n",
    "D = diag(sum(D_list)/length(D_list), 1)\n",
    "\n",
    "paste('(ML) sigma =', sigma)\n",
    "paste('(ML) b =', b)\n",
    "paste('(ML) D =', D)"
   ]
  },
  {
   "cell_type": "code",
   "execution_count": 1680,
   "id": "af6087ad-02db-4070-bef3-e6c0ea0a3cd8",
   "metadata": {
    "tags": []
   },
   "outputs": [
    {
     "data": {
      "text/plain": [
       "Linear mixed model fit by maximum likelihood  ['lmerMod']\n",
       "Formula: value1 ~ 1 + (1 | BID)\n",
       "   Data: metrics_fit\n",
       "\n",
       "     AIC      BIC   logLik deviance df.resid \n",
       "   692.3    700.3   -343.2    686.3      103 \n",
       "\n",
       "Scaled residuals: \n",
       "     Min       1Q   Median       3Q      Max \n",
       "-1.57609 -0.52824 -0.09361  0.28133  2.67231 \n",
       "\n",
       "Random effects:\n",
       " Groups   Name        Variance Std.Dev.\n",
       " BID      (Intercept) 243.07   15.591  \n",
       " Residual              10.86    3.295  \n",
       "Number of obs: 106, groups:  BID, 31\n",
       "\n",
       "Fixed effects:\n",
       "            Estimate Std. Error t value\n",
       "(Intercept)  104.160      2.822   36.91"
      ]
     },
     "metadata": {},
     "output_type": "display_data"
    }
   ],
   "source": [
    "lmer.mod.ML = lmer(value1 ~ 1 + (1|BID), data = metrics_fit, REML = F)\n",
    "summary(lmer.mod.ML)"
   ]
  },
  {
   "cell_type": "code",
   "execution_count": 1818,
   "id": "1d56914b-3dd5-4247-8eb9-c5bc45a0eba9",
   "metadata": {
    "tags": []
   },
   "outputs": [],
   "source": [
    "# REML\n",
    "# rucne\n",
    "  \n",
    "D = matrix(1)\n",
    "sigma = 1\n",
    "b = 0\n",
    "\n",
    "b_values <- c()\n",
    "sigma_values <- c()\n",
    "D_values <- c()"
   ]
  },
  {
   "cell_type": "code",
   "execution_count": 1819,
   "id": "62a60e01-a5ef-4b67-929e-b8a83c28f8db",
   "metadata": {
    "tags": []
   },
   "outputs": [
    {
     "ename": "ERROR",
     "evalue": "Error in solve.default(V): 'a' is 0-diml\n",
     "output_type": "error",
     "traceback": [
      "Error in solve.default(V): 'a' is 0-diml\nTraceback:\n",
      "1. solve(V)",
      "2. solve(V)",
      "3. solve.default(V)"
     ]
    }
   ],
   "source": [
    "sigma_list <- c()\n",
    "D_list <- c()\n",
    "cov_list <- c()\n",
    "var_list <- c()\n",
    "  \n",
    "for (bid in 1:length(unique(metrics_fit$BID))) {\n",
    "  \n",
    "  Y = as.matrix((metrics_fit %>% \n",
    "                  filter(BID == unique(BID)[bid]))$value1)\n",
    "\n",
    "  X = as.matrix(rep(1,nrow(Y)))\n",
    "  Z = rep(1, nrow(Y))\n",
    "  I = diag(nrow(Y))\n",
    "  \n",
    "  V = sigma * I + Z %*% D %*% t(Z)\n",
    "  W =  solve(V)\n",
    "  P = W %*% (I - X %*% solve(sum(t(X) %*% W %*% X)) %*% t(X) %*% W) # (3.10)\n",
    "    \n",
    "  r = Y - (X) %*% t(b) # (y - Xb)\n",
    "  u = D %*% t(Z) %*% W %*% r # (3.2)\n",
    "  e = r - (Z %*% u) \n",
    "  \n",
    "  # for b recalculation \n",
    "  cov_list = c(cov_list, t(X) %*% W %*% Y)\n",
    "  var_list = c(var_list, t(X) %*% W %*% X) # (3.3)\n",
    "  \n",
    "  # for sigma and D recalculation \n",
    "  sigma_list = c(sigma_list, t(e) %*% e + sigma * sum(diag(I - sigma * P)))\n",
    "  D_list = c(D_list, u %*% t(u) + D * (diag(1) - t(Z) %*% P %*% Z %*% D)) \n",
    "\n",
    "}\n",
    "    \n",
    "# recalculate b\n",
    "b = solve(sum(var_list)) %*% sum(cov_list)\n",
    "# and recalculate sigma\n",
    "sigma = sum(sigma_list)/nrow(metrics_fit)\n",
    "# and recalculate D\n",
    "D = diag(sum(D_list)/length(D_list), 1)\n",
    "\n",
    "paste('(REML) sigma =', sigma)\n",
    "paste('(REML) b =', b)\n",
    "paste('(REML) D =', D)"
   ]
  },
  {
   "cell_type": "code",
   "execution_count": 1681,
   "id": "59ac7c48-87f7-4aa0-8390-1c54c35cec47",
   "metadata": {
    "tags": []
   },
   "outputs": [
    {
     "data": {
      "text/plain": [
       "Linear mixed model fit by REML ['lmerMod']\n",
       "Formula: value1 ~ 1 + (1 | BID)\n",
       "   Data: metrics_fit\n",
       "\n",
       "REML criterion at convergence: 682.4\n",
       "\n",
       "Scaled residuals: \n",
       "     Min       1Q   Median       3Q      Max \n",
       "-1.57663 -0.52832 -0.09549  0.28081  2.67173 \n",
       "\n",
       "Random effects:\n",
       " Groups   Name        Variance Std.Dev.\n",
       " BID      (Intercept) 251.28   15.852  \n",
       " Residual              10.86    3.295  \n",
       "Number of obs: 106, groups:  BID, 31\n",
       "\n",
       "Fixed effects:\n",
       "            Estimate Std. Error t value\n",
       "(Intercept)  104.161      2.869   36.31"
      ]
     },
     "metadata": {},
     "output_type": "display_data"
    }
   ],
   "source": [
    "lmer.mod.REML = lmer(value1 ~ 1 + (1|BID), data = metrics_fit, REML = TRUE)\n",
    "summary(lmer.mod.REML)"
   ]
  },
  {
   "cell_type": "markdown",
   "id": "a675675f-b1ed-47e5-b501-53aadfd82a6a",
   "metadata": {
    "jupyter": {
     "source_hidden": true
    },
    "tags": []
   },
   "source": [
    "# metrics_fit_full <- metrics_fit"
   ]
  },
  {
   "cell_type": "markdown",
   "id": "1bd04cb8-a547-4891-a3f2-e61191f6502c",
   "metadata": {
    "jupyter": {
     "source_hidden": true
    },
    "tags": []
   },
   "source": []
  },
  {
   "cell_type": "markdown",
   "id": "ae3d0969-e13a-4f56-9941-bb75dd28d5dd",
   "metadata": {
    "tags": []
   },
   "source": [
    "$$\n",
    "\\begin{bmatrix}\n",
    "R_{1} & 0 & \\cdots & 0 \\\\\n",
    "0 & R_{2} & \\cdots & 0 \\\\\n",
    "\\vdots & \\vdots & \\ddots & \\vdots \\\\\n",
    "0 & 0 & \\cdots & R_{n}\n",
    "\\end{bmatrix} \\tag{3-8}\n",
    "$$"
   ]
  },
  {
   "cell_type": "markdown",
   "id": "66e293f3-633f-461f-bf81-61c59cb8c678",
   "metadata": {
    "tags": []
   },
   "source": [
    "### VarCov matrix"
   ]
  },
  {
   "cell_type": "markdown",
   "id": "22d6a0ed-4577-4251-a7ba-506ca5758130",
   "metadata": {
    "tags": []
   },
   "source": [
    "#### Compound symmetry"
   ]
  },
  {
   "cell_type": "code",
   "execution_count": 1823,
   "id": "449401b9-4443-4014-a2ce-2333770c202f",
   "metadata": {
    "tags": []
   },
   "outputs": [
    {
     "data": {
      "text/plain": [
       "BID = pdLogChol(1) \n",
       "            Variance   StdDev   \n",
       "(Intercept) 242.461784 15.571184\n",
       "Residual      6.224912  2.494977"
      ]
     },
     "metadata": {},
     "output_type": "display_data"
    }
   ],
   "source": [
    "# compound symmetry structure with lme\n",
    "\n",
    "fit <- lme(value1 ~ factor(time_factor), \n",
    "            random = ~1|BID,  \n",
    "            data = metrics_fit,\n",
    "            method=\"ML\")\n",
    "\n",
    "VarCorr(fit)"
   ]
  },
  {
   "cell_type": "code",
   "execution_count": 1907,
   "id": "b4ef5869-17f9-4654-a96b-802c0392c947",
   "metadata": {
    "tags": []
   },
   "outputs": [
    {
     "data": {
      "text/plain": [
       "BID 561209/0440 \n",
       "Marginal variance covariance matrix\n",
       "       1      2      3      4\n",
       "1 248.69 242.46 242.46 242.46\n",
       "2 242.46 248.69 242.46 242.46\n",
       "3 242.46 242.46 248.69 242.46\n",
       "4 242.46 242.46 242.46 248.69\n",
       "  Standard Deviations: 15.77 15.77 15.77 15.77 "
      ]
     },
     "metadata": {},
     "output_type": "display_data"
    }
   ],
   "source": [
    "# round(getVarCov(fit, type= \"marginal\", individual = 1)[[1]],2)\n",
    "getVarCov(fit, type= \"marginal\", individual = 24)"
   ]
  },
  {
   "cell_type": "markdown",
   "id": "b91d6811-2822-459d-bf01-b78b5ee78c5e",
   "metadata": {
    "tags": []
   },
   "source": [
    "$$\n",
    "\\begin{bmatrix}\n",
    "\\sigma^{2} + \\tau & \\tau & \\cdots & \\tau \\\\\n",
    "\\tau & \\sigma^{2} + \\tau & \\cdots & \\tau \\\\\n",
    "\\vdots & \\vdots & \\ddots & \\vdots \\\\\n",
    "\\tau & \\tau & \\cdots & \\sigma^{2} + \\tau\n",
    "\\end{bmatrix} \\tag{3-8}\n",
    "$$"
   ]
  },
  {
   "cell_type": "markdown",
   "id": "bcfbccac-7afd-40f6-aebd-60ec133c59af",
   "metadata": {
    "tags": []
   },
   "source": [
    "#### Unstructured"
   ]
  },
  {
   "cell_type": "code",
   "execution_count": 24,
   "id": "d5ece56d-fc4b-4f1b-aa8a-2890de85174a",
   "metadata": {
    "tags": []
   },
   "outputs": [],
   "source": [
    "metrics_fit$time_factor <- as.factor(metrics_fit$time_factor)"
   ]
  },
  {
   "cell_type": "code",
   "execution_count": 26,
   "id": "0bf6fa6e-8f23-4ed6-b35f-3d3a058990ba",
   "metadata": {
    "tags": []
   },
   "outputs": [],
   "source": [
    "#  unstructured covariance matrix\n",
    "\n",
    "fit2 <- lme(value1 ~ factor(time_factor), \n",
    "            random = ~(time_factor)|BID, \n",
    "            data = metrics_fit,\n",
    "            method=\"ML\")"
   ]
  },
  {
   "cell_type": "code",
   "execution_count": 27,
   "id": "9eed4fc5-7db1-4947-b48b-35f42ce865ac",
   "metadata": {
    "tags": []
   },
   "outputs": [
    {
     "data": {
      "text/plain": [
       "Random effects variance covariance matrix\n",
       "             (Intercept) time_factor2 time_factor3 time_factor4\n",
       "(Intercept)      260.740     -16.4860      -19.516      -26.668\n",
       "time_factor2     -16.486       9.6021       13.072       13.207\n",
       "time_factor3     -19.516      13.0720       19.880       21.910\n",
       "time_factor4     -26.668      13.2070       21.910       26.510\n",
       "  Standard Deviations: 16.147 3.0987 4.4587 5.1487 "
      ]
     },
     "metadata": {},
     "output_type": "display_data"
    }
   ],
   "source": [
    "# ...getVarCov doesnt give the correct matrix (r cant be negative)\n",
    "\n",
    "getVarCov(fit2) "
   ]
  },
  {
   "cell_type": "code",
   "execution_count": 28,
   "id": "438480fc-7ac5-4527-a747-b10ce768f182",
   "metadata": {
    "tags": []
   },
   "outputs": [
    {
     "data": {
      "text/html": [
       "<table class=\"dataframe\">\n",
       "<caption>A matrix: 4 × 4 of type dbl</caption>\n",
       "<thead>\n",
       "\t<tr><th></th><th scope=col>(Intercept)</th><th scope=col>time_factor2</th><th scope=col>time_factor3</th><th scope=col>time_factor4</th></tr>\n",
       "</thead>\n",
       "<tbody>\n",
       "\t<tr><th scope=row>(Intercept)</th><td>260.74005</td><td>-16.486354</td><td>-19.51645</td><td>-26.66753</td></tr>\n",
       "\t<tr><th scope=row>time_factor2</th><td>-16.48635</td><td>  9.602065</td><td> 13.07216</td><td> 13.20717</td></tr>\n",
       "\t<tr><th scope=row>time_factor3</th><td>-19.51645</td><td> 13.072160</td><td> 19.88021</td><td> 21.91041</td></tr>\n",
       "\t<tr><th scope=row>time_factor4</th><td>-26.66753</td><td> 13.207172</td><td> 21.91041</td><td> 26.50960</td></tr>\n",
       "</tbody>\n",
       "</table>\n"
      ],
      "text/latex": [
       "A matrix: 4 × 4 of type dbl\n",
       "\\begin{tabular}{r|llll}\n",
       "  & (Intercept) & time\\_factor2 & time\\_factor3 & time\\_factor4\\\\\n",
       "\\hline\n",
       "\t(Intercept) & 260.74005 & -16.486354 & -19.51645 & -26.66753\\\\\n",
       "\ttime\\_factor2 & -16.48635 &   9.602065 &  13.07216 &  13.20717\\\\\n",
       "\ttime\\_factor3 & -19.51645 &  13.072160 &  19.88021 &  21.91041\\\\\n",
       "\ttime\\_factor4 & -26.66753 &  13.207172 &  21.91041 &  26.50960\\\\\n",
       "\\end{tabular}\n"
      ],
      "text/markdown": [
       "\n",
       "A matrix: 4 × 4 of type dbl\n",
       "\n",
       "| <!--/--> | (Intercept) | time_factor2 | time_factor3 | time_factor4 |\n",
       "|---|---|---|---|---|\n",
       "| (Intercept) | 260.74005 | -16.486354 | -19.51645 | -26.66753 |\n",
       "| time_factor2 | -16.48635 |   9.602065 |  13.07216 |  13.20717 |\n",
       "| time_factor3 | -19.51645 |  13.072160 |  19.88021 |  21.91041 |\n",
       "| time_factor4 | -26.66753 |  13.207172 |  21.91041 |  26.50960 |\n",
       "\n"
      ],
      "text/plain": [
       "             (Intercept) time_factor2 time_factor3 time_factor4\n",
       "(Intercept)  260.74005   -16.486354   -19.51645    -26.66753   \n",
       "time_factor2 -16.48635     9.602065    13.07216     13.20717   \n",
       "time_factor3 -19.51645    13.072160    19.88021     21.91041   \n",
       "time_factor4 -26.66753    13.207172    21.91041     26.50960   "
      ]
     },
     "metadata": {},
     "output_type": "display_data"
    }
   ],
   "source": [
    "# ...getVarCov doesnt give the correct matrix (r cant be negative)\n",
    "\n",
    "getVarCov(fit2)[1:4,1:4]"
   ]
  },
  {
   "cell_type": "code",
   "execution_count": 38,
   "id": "be00c495-398a-47dc-b6b6-e3e7842d5055",
   "metadata": {
    "tags": []
   },
   "outputs": [
    {
     "data": {
      "text/html": [
       "<table class=\"dataframe\">\n",
       "<caption>A matrix: 5 × 4 of type dbl</caption>\n",
       "<thead>\n",
       "\t<tr><th scope=col></th><th scope=col>.data_2</th><th scope=col>.data_3</th><th scope=col>.data_4</th></tr>\n",
       "</thead>\n",
       "<tbody>\n",
       "\t<tr><td>1</td><td>0</td><td>0</td><td>0</td></tr>\n",
       "\t<tr><td>1</td><td>1</td><td>0</td><td>0</td></tr>\n",
       "\t<tr><td>1</td><td>0</td><td>1</td><td>0</td></tr>\n",
       "\t<tr><td>1</td><td>0</td><td>0</td><td>1</td></tr>\n",
       "\t<tr><td>1</td><td>0</td><td>0</td><td>0</td></tr>\n",
       "</tbody>\n",
       "</table>\n"
      ],
      "text/latex": [
       "A matrix: 5 × 4 of type dbl\n",
       "\\begin{tabular}{llll}\n",
       "  & .data\\_2 & .data\\_3 & .data\\_4\\\\\n",
       "\\hline\n",
       "\t 1 & 0 & 0 & 0\\\\\n",
       "\t 1 & 1 & 0 & 0\\\\\n",
       "\t 1 & 0 & 1 & 0\\\\\n",
       "\t 1 & 0 & 0 & 1\\\\\n",
       "\t 1 & 0 & 0 & 0\\\\\n",
       "\\end{tabular}\n"
      ],
      "text/markdown": [
       "\n",
       "A matrix: 5 × 4 of type dbl\n",
       "\n",
       "| <!----> | .data_2 | .data_3 | .data_4 |\n",
       "|---|---|---|---|\n",
       "| 1 | 0 | 0 | 0 |\n",
       "| 1 | 1 | 0 | 0 |\n",
       "| 1 | 0 | 1 | 0 |\n",
       "| 1 | 0 | 0 | 1 |\n",
       "| 1 | 0 | 0 | 0 |\n",
       "\n"
      ],
      "text/plain": [
       "       .data_2 .data_3 .data_4\n",
       "[1,] 1 0       0       0      \n",
       "[2,] 1 1       0       0      \n",
       "[3,] 1 0       1       0      \n",
       "[4,] 1 0       0       1      \n",
       "[5,] 1 0       0       0      "
      ]
     },
     "metadata": {},
     "output_type": "display_data"
    }
   ],
   "source": [
    "D <- getVarCov(fit2, type =\"random\") # D\n",
    "d <- dummy_cols((metrics_fit %>% filter(BID==unique(BID)[1]))$time_factor)[,-c(1,2)]\n",
    "Z <- cbind(rep(1,5), as.matrix(d)[1:5,])\n",
    "Z"
   ]
  },
  {
   "cell_type": "markdown",
   "id": "87bd5435-5655-4f87-a0ed-aeb69ece3089",
   "metadata": {
    "tags": []
   },
   "source": [
    " $$ Y \\sim N(Xb,  \\sigma^{2}I + ZDZ^{T}) $$"
   ]
  },
  {
   "cell_type": "code",
   "execution_count": 36,
   "id": "115e96de-3116-496c-8ba3-47b67f77e3f7",
   "metadata": {
    "tags": []
   },
   "outputs": [
    {
     "data": {
      "text/html": [
       "<table class=\"dataframe\">\n",
       "<caption>A matrix: 5 × 5 of type dbl</caption>\n",
       "<tbody>\n",
       "\t<tr><td>261.5320</td><td>244.2537</td><td>241.2236</td><td>234.0725</td><td>260.7400</td></tr>\n",
       "\t<tr><td>244.2537</td><td>238.1614</td><td>237.8094</td><td>230.7933</td><td>244.2537</td></tr>\n",
       "\t<tr><td>241.2236</td><td>237.8094</td><td>242.3793</td><td>236.4665</td><td>241.2236</td></tr>\n",
       "\t<tr><td>234.0725</td><td>230.7933</td><td>236.4665</td><td>234.7066</td><td>234.0725</td></tr>\n",
       "\t<tr><td>260.7400</td><td>244.2537</td><td>241.2236</td><td>234.0725</td><td>261.5320</td></tr>\n",
       "</tbody>\n",
       "</table>\n"
      ],
      "text/latex": [
       "A matrix: 5 × 5 of type dbl\n",
       "\\begin{tabular}{lllll}\n",
       "\t 261.5320 & 244.2537 & 241.2236 & 234.0725 & 260.7400\\\\\n",
       "\t 244.2537 & 238.1614 & 237.8094 & 230.7933 & 244.2537\\\\\n",
       "\t 241.2236 & 237.8094 & 242.3793 & 236.4665 & 241.2236\\\\\n",
       "\t 234.0725 & 230.7933 & 236.4665 & 234.7066 & 234.0725\\\\\n",
       "\t 260.7400 & 244.2537 & 241.2236 & 234.0725 & 261.5320\\\\\n",
       "\\end{tabular}\n"
      ],
      "text/markdown": [
       "\n",
       "A matrix: 5 × 5 of type dbl\n",
       "\n",
       "| 261.5320 | 244.2537 | 241.2236 | 234.0725 | 260.7400 |\n",
       "| 244.2537 | 238.1614 | 237.8094 | 230.7933 | 244.2537 |\n",
       "| 241.2236 | 237.8094 | 242.3793 | 236.4665 | 241.2236 |\n",
       "| 234.0725 | 230.7933 | 236.4665 | 234.7066 | 234.0725 |\n",
       "| 260.7400 | 244.2537 | 241.2236 | 234.0725 | 261.5320 |\n",
       "\n"
      ],
      "text/plain": [
       "     [,1]     [,2]     [,3]     [,4]     [,5]    \n",
       "[1,] 261.5320 244.2537 241.2236 234.0725 260.7400\n",
       "[2,] 244.2537 238.1614 237.8094 230.7933 244.2537\n",
       "[3,] 241.2236 237.8094 242.3793 236.4665 241.2236\n",
       "[4,] 234.0725 230.7933 236.4665 234.7066 234.0725\n",
       "[5,] 260.7400 244.2537 241.2236 234.0725 261.5320"
      ]
     },
     "metadata": {},
     "output_type": "display_data"
    }
   ],
   "source": [
    "# this one is correct unstructured matrix\n",
    "\n",
    "sigma(fit2)*diag(5) + (Z) %*% as.matrix(D) %*% t(Z)"
   ]
  },
  {
   "cell_type": "markdown",
   "id": "9b84f054-b41e-46c1-8a2f-217e5dfd4f40",
   "metadata": {
    "tags": []
   },
   "source": [
    "#### AR(1)"
   ]
  },
  {
   "cell_type": "code",
   "execution_count": 1858,
   "id": "96d2a44c-be16-4e57-b81b-fb65a7e566fd",
   "metadata": {
    "tags": []
   },
   "outputs": [],
   "source": [
    "#  ar(1) covariance matrix\n",
    "\n",
    "fit3 <- lme(value1 ~ factor(time_factor), \n",
    "    random = ~1|BID, \n",
    "    correlation = corAR1(form = ~1|BID),\n",
    "    data = metrics_fit)"
   ]
  },
  {
   "cell_type": "code",
   "execution_count": 1859,
   "id": "c39ab99c-0339-4e24-8b24-2e5cd46566b8",
   "metadata": {
    "tags": []
   },
   "outputs": [
    {
     "data": {
      "text/html": [
       "<table class=\"dataframe\">\n",
       "<caption>A matrix: 4 × 4 of type dbl</caption>\n",
       "<tbody>\n",
       "\t<tr><td>1.0000000</td><td>0.9865659</td><td>0.9733122</td><td>0.9602366</td></tr>\n",
       "\t<tr><td>0.9865659</td><td>1.0000000</td><td>0.9865659</td><td>0.9733122</td></tr>\n",
       "\t<tr><td>0.9733122</td><td>0.9865659</td><td>1.0000000</td><td>0.9865659</td></tr>\n",
       "\t<tr><td>0.9602366</td><td>0.9733122</td><td>0.9865659</td><td>1.0000000</td></tr>\n",
       "</tbody>\n",
       "</table>\n"
      ],
      "text/latex": [
       "A matrix: 4 × 4 of type dbl\n",
       "\\begin{tabular}{llll}\n",
       "\t 1.0000000 & 0.9865659 & 0.9733122 & 0.9602366\\\\\n",
       "\t 0.9865659 & 1.0000000 & 0.9865659 & 0.9733122\\\\\n",
       "\t 0.9733122 & 0.9865659 & 1.0000000 & 0.9865659\\\\\n",
       "\t 0.9602366 & 0.9733122 & 0.9865659 & 1.0000000\\\\\n",
       "\\end{tabular}\n"
      ],
      "text/markdown": [
       "\n",
       "A matrix: 4 × 4 of type dbl\n",
       "\n",
       "| 1.0000000 | 0.9865659 | 0.9733122 | 0.9602366 |\n",
       "| 0.9865659 | 1.0000000 | 0.9865659 | 0.9733122 |\n",
       "| 0.9733122 | 0.9865659 | 1.0000000 | 0.9865659 |\n",
       "| 0.9602366 | 0.9733122 | 0.9865659 | 1.0000000 |\n",
       "\n"
      ],
      "text/plain": [
       "     [,1]      [,2]      [,3]      [,4]     \n",
       "[1,] 1.0000000 0.9865659 0.9733122 0.9602366\n",
       "[2,] 0.9865659 1.0000000 0.9865659 0.9733122\n",
       "[3,] 0.9733122 0.9865659 1.0000000 0.9865659\n",
       "[4,] 0.9602366 0.9733122 0.9865659 1.0000000"
      ]
     },
     "metadata": {},
     "output_type": "display_data"
    }
   ],
   "source": [
    "corMatrix(fit3$modelStruct$corStruct)[[1]]"
   ]
  },
  {
   "cell_type": "code",
   "execution_count": 1804,
   "id": "0f05d9b1-a5eb-44d8-91ec-711903111ede",
   "metadata": {
    "tags": []
   },
   "outputs": [
    {
     "data": {
      "text/html": [
       "692.34506238592"
      ],
      "text/latex": [
       "692.34506238592"
      ],
      "text/markdown": [
       "692.34506238592"
      ],
      "text/plain": [
       "[1] 692.3451"
      ]
     },
     "metadata": {},
     "output_type": "display_data"
    }
   ],
   "source": [
    "AIC(fit) # compound symmetry"
   ]
  },
  {
   "cell_type": "code",
   "execution_count": 1856,
   "id": "4b50900c-3717-45e3-a29c-2123db104e1c",
   "metadata": {
    "tags": []
   },
   "outputs": [
    {
     "data": {
      "text/html": [
       "622.410331874261"
      ],
      "text/latex": [
       "622.410331874261"
      ],
      "text/markdown": [
       "622.410331874261"
      ],
      "text/plain": [
       "[1] 622.4103"
      ]
     },
     "metadata": {},
     "output_type": "display_data"
    }
   ],
   "source": [
    "AIC(fit2) # AR(1) structure"
   ]
  },
  {
   "cell_type": "code",
   "execution_count": 1835,
   "id": "c322d8a5-505a-4947-910f-859588b3bcd3",
   "metadata": {
    "tags": []
   },
   "outputs": [
    {
     "data": {
      "text/html": [
       "626.250043891601"
      ],
      "text/latex": [
       "626.250043891601"
      ],
      "text/markdown": [
       "626.250043891601"
      ],
      "text/plain": [
       "[1] 626.25"
      ]
     },
     "metadata": {},
     "output_type": "display_data"
    }
   ],
   "source": [
    "AIC(fit3) # unstructured "
   ]
  },
  {
   "cell_type": "code",
   "execution_count": 1851,
   "id": "f08f58dc-4767-465c-ba92-a33c13da1956",
   "metadata": {
    "tags": []
   },
   "outputs": [],
   "source": [
    "#  ar(1) covariance matrix\n",
    "\n",
    "fit3 <- lme(value1 ~ as.factor(time_factor), \n",
    "        random = ~as.factor(time_factor)|BID, \n",
    "        correlation = corAR1(form = ~1|BID),\n",
    "        data = metrics_fit)"
   ]
  },
  {
   "cell_type": "markdown",
   "id": "d7ed39dc-3e36-44dd-ad3f-e789e61ed8b5",
   "metadata": {
    "tags": []
   },
   "source": [
    "$$\n",
    "\\sigma^{2} \\begin{bmatrix}\n",
    "1 & \\rho & \\rho^{2} & \\rho^{3} \\\\\n",
    "\\rho & 1 & \\rho & \\rho^{2} \\\\\n",
    "\\rho^{2} & \\rho & 1 & \\rho \\\\\n",
    "\\rho^{3} & \\rho^{2} & \\rho & 1\n",
    "\\end{bmatrix} \\tag{3-8}\n",
    "$$"
   ]
  },
  {
   "cell_type": "code",
   "execution_count": 1945,
   "id": "d6fc02aa-cb9d-4461-ab09-cc6cf76a2ae4",
   "metadata": {
    "tags": []
   },
   "outputs": [
    {
     "data": {
      "text/html": [
       "<table class=\"dataframe\">\n",
       "<caption>A matrix: 4 × 4 of type dbl</caption>\n",
       "<tbody>\n",
       "\t<tr><td>1.000</td><td>0.165</td><td>0.027</td><td>0.005</td></tr>\n",
       "\t<tr><td>0.165</td><td>1.000</td><td>0.165</td><td>0.027</td></tr>\n",
       "\t<tr><td>0.027</td><td>0.165</td><td>1.000</td><td>0.165</td></tr>\n",
       "\t<tr><td>0.005</td><td>0.027</td><td>0.165</td><td>1.000</td></tr>\n",
       "</tbody>\n",
       "</table>\n"
      ],
      "text/latex": [
       "A matrix: 4 × 4 of type dbl\n",
       "\\begin{tabular}{llll}\n",
       "\t 1.000 & 0.165 & 0.027 & 0.005\\\\\n",
       "\t 0.165 & 1.000 & 0.165 & 0.027\\\\\n",
       "\t 0.027 & 0.165 & 1.000 & 0.165\\\\\n",
       "\t 0.005 & 0.027 & 0.165 & 1.000\\\\\n",
       "\\end{tabular}\n"
      ],
      "text/markdown": [
       "\n",
       "A matrix: 4 × 4 of type dbl\n",
       "\n",
       "| 1.000 | 0.165 | 0.027 | 0.005 |\n",
       "| 0.165 | 1.000 | 0.165 | 0.027 |\n",
       "| 0.027 | 0.165 | 1.000 | 0.165 |\n",
       "| 0.005 | 0.027 | 0.165 | 1.000 |\n",
       "\n"
      ],
      "text/plain": [
       "     [,1]  [,2]  [,3]  [,4] \n",
       "[1,] 1.000 0.165 0.027 0.005\n",
       "[2,] 0.165 1.000 0.165 0.027\n",
       "[3,] 0.027 0.165 1.000 0.165\n",
       "[4,] 0.005 0.027 0.165 1.000"
      ]
     },
     "metadata": {},
     "output_type": "display_data"
    }
   ],
   "source": [
    "round(corMatrix(fit3$modelStruct$corStruct)[[1]], 3)"
   ]
  },
  {
   "cell_type": "code",
   "execution_count": 1947,
   "id": "bcdf0d17-90e2-43f1-bda3-ef1ade23ffce",
   "metadata": {
    "tags": []
   },
   "outputs": [
    {
     "data": {
      "text/html": [
       "0.027225"
      ],
      "text/latex": [
       "0.027225"
      ],
      "text/markdown": [
       "0.027225"
      ],
      "text/plain": [
       "[1] 0.027225"
      ]
     },
     "metadata": {},
     "output_type": "display_data"
    }
   ],
   "source": [
    "0.165^2"
   ]
  },
  {
   "cell_type": "code",
   "execution_count": 1853,
   "id": "4459cd3a-e354-40e8-9b05-454cd8dd9d81",
   "metadata": {
    "tags": []
   },
   "outputs": [
    {
     "data": {
      "text/html": [
       "623.549135395007"
      ],
      "text/latex": [
       "623.549135395007"
      ],
      "text/markdown": [
       "623.549135395007"
      ],
      "text/plain": [
       "[1] 623.5491"
      ]
     },
     "metadata": {},
     "output_type": "display_data"
    }
   ],
   "source": [
    "AIC(fit3)"
   ]
  },
  {
   "cell_type": "code",
   "execution_count": 1940,
   "id": "dfe7c5a8-a66a-4182-b204-fe7d85507808",
   "metadata": {
    "tags": []
   },
   "outputs": [
    {
     "data": {
      "text/plain": [
       "Linear mixed-effects model fit by maximum likelihood\n",
       "  Data: metrics_fit \n",
       "  Log-likelihood: -322.1637\n",
       "  Fixed: value1 ~ factor(time_factor) \n",
       "         (Intercept) factor(time_factor)2 factor(time_factor)3 \n",
       "          106.709677            -3.016870            -4.422874 \n",
       "factor(time_factor)4 \n",
       "           -4.677934 \n",
       "\n",
       "Random effects:\n",
       " Formula: ~1 | BID\n",
       "        (Intercept) Residual\n",
       "StdDev:    15.57118 2.494977\n",
       "\n",
       "Number of Observations: 106\n",
       "Number of Groups: 31 "
      ]
     },
     "metadata": {},
     "output_type": "display_data"
    }
   ],
   "source": [
    "fit"
   ]
  },
  {
   "cell_type": "code",
   "execution_count": 1954,
   "id": "ffa2cbac-c886-40bf-97b8-986c1544183a",
   "metadata": {
    "tags": []
   },
   "outputs": [
    {
     "ename": "ERROR",
     "evalue": "Error in getGroups.data.frame(dataMix, groups): invalid formula for groups\n",
     "output_type": "error",
     "traceback": [
      "Error in getGroups.data.frame(dataMix, groups): invalid formula for groups\nTraceback:\n",
      "1. lme(value1 ~ as.factor(time_factor), data = metrics_fit, random = pdBlocked(list(pdIdent(~as.factor(time_factor) - \n .     1 | BID), pdIdent(~1 | BID))))",
      "2. lme.formula(value1 ~ as.factor(time_factor), data = metrics_fit, \n .     random = pdBlocked(list(pdIdent(~as.factor(time_factor) - \n .         1 | BID), pdIdent(~1 | BID))))",
      "3. getGroups(dataMix, groups)",
      "4. getGroups.data.frame(dataMix, groups)",
      "5. stop(\"invalid formula for groups\")"
     ]
    }
   ],
   "source": [
    "library(nlme)\n",
    "\n",
    "# Fit a model with an unstructured covariance matrix\n",
    "model <- lme(value1 ~ as.factor(time_factor), \n",
    "             data = metrics_fit,\n",
    "             random = pdBlocked(list(pdIdent(~ as.factor(time_factor) - 1 | BID),\n",
    "                                    pdIdent(~ 1 | BID))))"
   ]
  },
  {
   "cell_type": "code",
   "execution_count": null,
   "id": "6b2e0f24-05da-491c-896b-cb56d4f5fda2",
   "metadata": {
    "tags": []
   },
   "outputs": [],
   "source": []
  },
  {
   "cell_type": "code",
   "execution_count": null,
   "id": "dfddf11c-b9e7-4365-8754-03b124abaeff",
   "metadata": {
    "tags": []
   },
   "outputs": [],
   "source": []
  },
  {
   "cell_type": "code",
   "execution_count": 1863,
   "id": "a8cdbb62-b1bc-46a7-b9d0-fab3dbcaf3f4",
   "metadata": {
    "tags": []
   },
   "outputs": [
    {
     "data": {
      "text/html": [
       "<table class=\"dataframe\">\n",
       "<caption>A data.frame: 15 × 3</caption>\n",
       "<thead>\n",
       "\t<tr><th scope=col>id</th><th scope=col>y</th><th scope=col>t</th></tr>\n",
       "\t<tr><th scope=col>&lt;int&gt;</th><th scope=col>&lt;dbl&gt;</th><th scope=col>&lt;int&gt;</th></tr>\n",
       "</thead>\n",
       "<tbody>\n",
       "\t<tr><td>1</td><td>11.176104</td><td>1</td></tr>\n",
       "\t<tr><td>1</td><td> 2.512867</td><td>2</td></tr>\n",
       "\t<tr><td>1</td><td>19.228181</td><td>3</td></tr>\n",
       "\t<tr><td>1</td><td>-1.511728</td><td>4</td></tr>\n",
       "\t<tr><td>1</td><td> 7.530189</td><td>5</td></tr>\n",
       "\t<tr><td>2</td><td> 9.131629</td><td>1</td></tr>\n",
       "\t<tr><td>2</td><td> 8.346321</td><td>2</td></tr>\n",
       "\t<tr><td>2</td><td> 4.949058</td><td>3</td></tr>\n",
       "\t<tr><td>2</td><td>11.970271</td><td>4</td></tr>\n",
       "\t<tr><td>2</td><td> 9.145620</td><td>5</td></tr>\n",
       "\t<tr><td>3</td><td>10.701391</td><td>1</td></tr>\n",
       "\t<tr><td>3</td><td> 7.967006</td><td>2</td></tr>\n",
       "\t<tr><td>3</td><td> 8.441881</td><td>3</td></tr>\n",
       "\t<tr><td>3</td><td> 5.257622</td><td>4</td></tr>\n",
       "\t<tr><td>3</td><td>13.987643</td><td>5</td></tr>\n",
       "</tbody>\n",
       "</table>\n"
      ],
      "text/latex": [
       "A data.frame: 15 × 3\n",
       "\\begin{tabular}{lll}\n",
       " id & y & t\\\\\n",
       " <int> & <dbl> & <int>\\\\\n",
       "\\hline\n",
       "\t 1 & 11.176104 & 1\\\\\n",
       "\t 1 &  2.512867 & 2\\\\\n",
       "\t 1 & 19.228181 & 3\\\\\n",
       "\t 1 & -1.511728 & 4\\\\\n",
       "\t 1 &  7.530189 & 5\\\\\n",
       "\t 2 &  9.131629 & 1\\\\\n",
       "\t 2 &  8.346321 & 2\\\\\n",
       "\t 2 &  4.949058 & 3\\\\\n",
       "\t 2 & 11.970271 & 4\\\\\n",
       "\t 2 &  9.145620 & 5\\\\\n",
       "\t 3 & 10.701391 & 1\\\\\n",
       "\t 3 &  7.967006 & 2\\\\\n",
       "\t 3 &  8.441881 & 3\\\\\n",
       "\t 3 &  5.257622 & 4\\\\\n",
       "\t 3 & 13.987643 & 5\\\\\n",
       "\\end{tabular}\n"
      ],
      "text/markdown": [
       "\n",
       "A data.frame: 15 × 3\n",
       "\n",
       "| id &lt;int&gt; | y &lt;dbl&gt; | t &lt;int&gt; |\n",
       "|---|---|---|\n",
       "| 1 | 11.176104 | 1 |\n",
       "| 1 |  2.512867 | 2 |\n",
       "| 1 | 19.228181 | 3 |\n",
       "| 1 | -1.511728 | 4 |\n",
       "| 1 |  7.530189 | 5 |\n",
       "| 2 |  9.131629 | 1 |\n",
       "| 2 |  8.346321 | 2 |\n",
       "| 2 |  4.949058 | 3 |\n",
       "| 2 | 11.970271 | 4 |\n",
       "| 2 |  9.145620 | 5 |\n",
       "| 3 | 10.701391 | 1 |\n",
       "| 3 |  7.967006 | 2 |\n",
       "| 3 |  8.441881 | 3 |\n",
       "| 3 |  5.257622 | 4 |\n",
       "| 3 | 13.987643 | 5 |\n",
       "\n"
      ],
      "text/plain": [
       "   id y         t\n",
       "1  1  11.176104 1\n",
       "2  1   2.512867 2\n",
       "3  1  19.228181 3\n",
       "4  1  -1.511728 4\n",
       "5  1   7.530189 5\n",
       "6  2   9.131629 1\n",
       "7  2   8.346321 2\n",
       "8  2   4.949058 3\n",
       "9  2  11.970271 4\n",
       "10 2   9.145620 5\n",
       "11 3  10.701391 1\n",
       "12 3   7.967006 2\n",
       "13 3   8.441881 3\n",
       "14 3   5.257622 4\n",
       "15 3  13.987643 5"
      ]
     },
     "metadata": {},
     "output_type": "display_data"
    }
   ],
   "source": [
    "df"
   ]
  },
  {
   "cell_type": "code",
   "execution_count": 1904,
   "id": "703141c6-b96d-4115-a967-ab9fc0c456f0",
   "metadata": {
    "tags": []
   },
   "outputs": [],
   "source": [
    "# ML\n",
    "# loop across every BID\n",
    "  \n",
    "D = matrix(rep(1,4), 2)\n",
    "sigma = 1\n",
    "b = c(0,0)\n",
    "\n",
    "b_values <- c()\n",
    "sigma_values <- c()\n",
    "D_values <- c()"
   ]
  },
  {
   "cell_type": "code",
   "execution_count": 1892,
   "id": "3add2b04-c1c3-4248-8bf9-3b0533274e90",
   "metadata": {
    "tags": []
   },
   "outputs": [
    {
     "ename": "ERROR",
     "evalue": "Error in Z %*% D: non-conformable arguments\n",
     "output_type": "error",
     "traceback": [
      "Error in Z %*% D: non-conformable arguments\nTraceback:\n"
     ]
    }
   ],
   "source": [
    "n = 10\n",
    "\n",
    "for (j in 1:n) { \n",
    "    \n",
    "  sigma_list <- c()\n",
    "  D_list <- c()\n",
    "  cov_list <- c()\n",
    "  var_list <- c()\n",
    "  \n",
    "for (bid in 1:length(unique(df$id))) {\n",
    "    \n",
    "  Y <- df$y\n",
    "\n",
    "  X = cbind(rep(1,length(Y)), df$t)\n",
    "  Z = cbind(rep(1,length(Y)), df$t)\n",
    "  I = diag(length(Y))\n",
    "  \n",
    "  V = sigma * I + Z %*% D %*% t(Z)\n",
    "  W =  solve(V)\n",
    "  \n",
    "  r = Y - (X) %*% (b) # (y - Xb)\n",
    "  u = D %*% t(Z) %*% W %*% r # (3.2) (u = r in a balanced dataset)\n",
    "  e = r - (Z %*% (u)) \n",
    "  \n",
    "  # for b recalculation \n",
    "  cov_list = c(cov_list, t(X) %*% W %*% Y) # xwz not xwy\n",
    "  var_list = c(var_list, t(X) %*% W %*% X) # (3.3)\n",
    "  \n",
    "  # for sigma and D recalculation \n",
    "  sigma_list = c(sigma_list, t(e) %*% e + sigma * sum(diag(I - sigma * W)))\n",
    "  D_list = c(D_list, u %*% t(u) + D * (diag(2) - t(Z) %*% W %*% Z %*% D))\n",
    "\n",
    "}\n",
    "    \n",
    "# recalculate b\n",
    "b = solve(sum(var_list)) %*% sum(cov_list)\n",
    "# and recalculate sigma\n",
    "sigma = sum(sigma_list)/length(metrics_fit)\n",
    "# and recalculate D\n",
    "D = diag(sum(D_list)/length(D_list), 1)\n",
    "    \n",
    "\n",
    "b_values[j] = b\n",
    "sigma_values[j] = sigma\n",
    "D_values[j] = D\n",
    "}"
   ]
  },
  {
   "cell_type": "code",
   "execution_count": 1896,
   "id": "21193041-3c1b-4b54-9b5e-972fe29c49c6",
   "metadata": {
    "tags": []
   },
   "outputs": [],
   "source": [
    "for (bid in 1:length(unique(df$id))) {\n",
    "    \n",
    "  Y <- df$y\n",
    "\n",
    "  X = cbind(rep(1,length(Y)), df$t)\n",
    "  Z = cbind(rep(1,length(Y)), df$t)\n",
    "  I = diag(length(Y))\n",
    "  \n",
    "  V = sigma * I + Z %*% D %*% t(Z)\n",
    "  W =  solve(V)\n",
    "  \n",
    "  r = Y - (X) %*% (b) # (y - Xb)\n",
    "  u = D %*% t(Z) %*% W %*% r # (3.2) (u = r in a balanced dataset)\n",
    "  e = r - (Z %*% (u)) \n",
    "  \n",
    "  # for b recalculation \n",
    "  cov_list = c(cov_list, t(X) %*% W %*% Y) # xwz not xwy\n",
    "  var_list = c(var_list, t(X) %*% W %*% X) # (3.3)\n",
    "  \n",
    "  # for sigma and D recalculation \n",
    "  sigma_list = c(sigma_list, t(e) %*% e + sigma * sum(diag(I - sigma * W)))\n",
    "  D_list = c(D_list, u %*% t(u) + D * (diag(2) - t(Z) %*% W %*% Z %*% D))\n",
    "\n",
    "}"
   ]
  },
  {
   "cell_type": "code",
   "execution_count": 1905,
   "id": "93715b13-a04d-4f4c-94cc-e08494449a66",
   "metadata": {
    "tags": []
   },
   "outputs": [
    {
     "data": {
      "text/html": [
       "<table class=\"dataframe\">\n",
       "<caption>A matrix: 15 × 1 of type dbl</caption>\n",
       "<tbody>\n",
       "\t<tr><td>11.176104</td></tr>\n",
       "\t<tr><td> 2.512867</td></tr>\n",
       "\t<tr><td>19.228181</td></tr>\n",
       "\t<tr><td>-1.511728</td></tr>\n",
       "\t<tr><td> 7.530189</td></tr>\n",
       "\t<tr><td> 9.131629</td></tr>\n",
       "\t<tr><td> 8.346321</td></tr>\n",
       "\t<tr><td> 4.949058</td></tr>\n",
       "\t<tr><td>11.970271</td></tr>\n",
       "\t<tr><td> 9.145620</td></tr>\n",
       "\t<tr><td>10.701391</td></tr>\n",
       "\t<tr><td> 7.967006</td></tr>\n",
       "\t<tr><td> 8.441881</td></tr>\n",
       "\t<tr><td> 5.257622</td></tr>\n",
       "\t<tr><td>13.987643</td></tr>\n",
       "</tbody>\n",
       "</table>\n"
      ],
      "text/latex": [
       "A matrix: 15 × 1 of type dbl\n",
       "\\begin{tabular}{l}\n",
       "\t 11.176104\\\\\n",
       "\t  2.512867\\\\\n",
       "\t 19.228181\\\\\n",
       "\t -1.511728\\\\\n",
       "\t  7.530189\\\\\n",
       "\t  9.131629\\\\\n",
       "\t  8.346321\\\\\n",
       "\t  4.949058\\\\\n",
       "\t 11.970271\\\\\n",
       "\t  9.145620\\\\\n",
       "\t 10.701391\\\\\n",
       "\t  7.967006\\\\\n",
       "\t  8.441881\\\\\n",
       "\t  5.257622\\\\\n",
       "\t 13.987643\\\\\n",
       "\\end{tabular}\n"
      ],
      "text/markdown": [
       "\n",
       "A matrix: 15 × 1 of type dbl\n",
       "\n",
       "| 11.176104 |\n",
       "|  2.512867 |\n",
       "| 19.228181 |\n",
       "| -1.511728 |\n",
       "|  7.530189 |\n",
       "|  9.131629 |\n",
       "|  8.346321 |\n",
       "|  4.949058 |\n",
       "| 11.970271 |\n",
       "|  9.145620 |\n",
       "| 10.701391 |\n",
       "|  7.967006 |\n",
       "|  8.441881 |\n",
       "|  5.257622 |\n",
       "| 13.987643 |\n",
       "\n"
      ],
      "text/plain": [
       "      [,1]     \n",
       " [1,] 11.176104\n",
       " [2,]  2.512867\n",
       " [3,] 19.228181\n",
       " [4,] -1.511728\n",
       " [5,]  7.530189\n",
       " [6,]  9.131629\n",
       " [7,]  8.346321\n",
       " [8,]  4.949058\n",
       " [9,] 11.970271\n",
       "[10,]  9.145620\n",
       "[11,] 10.701391\n",
       "[12,]  7.967006\n",
       "[13,]  8.441881\n",
       "[14,]  5.257622\n",
       "[15,] 13.987643"
      ]
     },
     "metadata": {},
     "output_type": "display_data"
    }
   ],
   "source": [
    "  Y <- df$y\n",
    "\n",
    "  X = cbind(rep(1,length(Y)), df$t)\n",
    "  Z = cbind(rep(1,length(Y)), df$t)\n",
    "  I = diag(length(Y))\n",
    "Y - (X) %*% (b)"
   ]
  },
  {
   "cell_type": "code",
   "execution_count": 1899,
   "id": "3e5a72fe-2573-4309-83e1-3344850745b0",
   "metadata": {
    "tags": []
   },
   "outputs": [
    {
     "data": {
      "text/html": [
       "<style>\n",
       ".list-inline {list-style: none; margin:0; padding: 0}\n",
       ".list-inline>li {display: inline-block}\n",
       ".list-inline>li:not(:last-child)::after {content: \"\\00b7\"; padding: 0 .5ex}\n",
       "</style>\n",
       "<ol class=list-inline><li>4.34156519807602</li><li>2.78805966302067</li><li>3.34156519807602</li><li>3.78805966302067</li><li>4.34156519807602</li><li>2.78805966302067</li><li>3.34156519807602</li><li>3.78805966302067</li><li>4.34156519807602</li><li>2.78805966302067</li><li>3.34156519807602</li><li>3.78805966302067</li></ol>\n"
      ],
      "text/latex": [
       "\\begin{enumerate*}\n",
       "\\item 4.34156519807602\n",
       "\\item 2.78805966302067\n",
       "\\item 3.34156519807602\n",
       "\\item 3.78805966302067\n",
       "\\item 4.34156519807602\n",
       "\\item 2.78805966302067\n",
       "\\item 3.34156519807602\n",
       "\\item 3.78805966302067\n",
       "\\item 4.34156519807602\n",
       "\\item 2.78805966302067\n",
       "\\item 3.34156519807602\n",
       "\\item 3.78805966302067\n",
       "\\end{enumerate*}\n"
      ],
      "text/markdown": [
       "1. 4.34156519807602\n",
       "2. 2.78805966302067\n",
       "3. 3.34156519807602\n",
       "4. 3.78805966302067\n",
       "5. 4.34156519807602\n",
       "6. 2.78805966302067\n",
       "7. 3.34156519807602\n",
       "8. 3.78805966302067\n",
       "9. 4.34156519807602\n",
       "10. 2.78805966302067\n",
       "11. 3.34156519807602\n",
       "12. 3.78805966302067\n",
       "\n",
       "\n"
      ],
      "text/plain": [
       " [1] 4.341565 2.788060 3.341565 3.788060 4.341565 2.788060 3.341565 3.788060\n",
       " [9] 4.341565 2.788060 3.341565 3.788060"
      ]
     },
     "metadata": {},
     "output_type": "display_data"
    }
   ],
   "source": [
    "D_list"
   ]
  },
  {
   "cell_type": "code",
   "execution_count": 1900,
   "id": "92f923e8-b87e-4e08-8889-d8c141e1420b",
   "metadata": {
    "tags": []
   },
   "outputs": [
    {
     "data": {
      "text/html": [
       "<style>\n",
       ".list-inline {list-style: none; margin:0; padding: 0}\n",
       ".list-inline>li {display: inline-block}\n",
       ".list-inline>li:not(:last-child)::after {content: \"\\00b7\"; padding: 0 .5ex}\n",
       "</style>\n",
       "<ol class=list-inline><li>1.71586715867159</li><li>-1.49446494464945</li><li>-1.49446494464945</li><li>2.26937269372693</li><li>1.71586715867159</li><li>-1.49446494464945</li><li>-1.49446494464945</li><li>2.26937269372693</li><li>1.71586715867159</li><li>-1.49446494464945</li><li>-1.49446494464945</li><li>2.26937269372693</li></ol>\n"
      ],
      "text/latex": [
       "\\begin{enumerate*}\n",
       "\\item 1.71586715867159\n",
       "\\item -1.49446494464945\n",
       "\\item -1.49446494464945\n",
       "\\item 2.26937269372693\n",
       "\\item 1.71586715867159\n",
       "\\item -1.49446494464945\n",
       "\\item -1.49446494464945\n",
       "\\item 2.26937269372693\n",
       "\\item 1.71586715867159\n",
       "\\item -1.49446494464945\n",
       "\\item -1.49446494464945\n",
       "\\item 2.26937269372693\n",
       "\\end{enumerate*}\n"
      ],
      "text/markdown": [
       "1. 1.71586715867159\n",
       "2. -1.49446494464945\n",
       "3. -1.49446494464945\n",
       "4. 2.26937269372693\n",
       "5. 1.71586715867159\n",
       "6. -1.49446494464945\n",
       "7. -1.49446494464945\n",
       "8. 2.26937269372693\n",
       "9. 1.71586715867159\n",
       "10. -1.49446494464945\n",
       "11. -1.49446494464945\n",
       "12. 2.26937269372693\n",
       "\n",
       "\n"
      ],
      "text/plain": [
       " [1]  1.715867 -1.494465 -1.494465  2.269373  1.715867 -1.494465 -1.494465\n",
       " [8]  2.269373  1.715867 -1.494465 -1.494465  2.269373"
      ]
     },
     "metadata": {},
     "output_type": "display_data"
    }
   ],
   "source": [
    "var_list"
   ]
  },
  {
   "cell_type": "code",
   "execution_count": 1901,
   "id": "ab436cc3-3a46-4f71-900d-41bb42746818",
   "metadata": {
    "tags": []
   },
   "outputs": [
    {
     "data": {
      "text/html": [
       "<style>\n",
       ".list-inline {list-style: none; margin:0; padding: 0}\n",
       ".list-inline>li {display: inline-block}\n",
       ".list-inline>li:not(:last-child)::after {content: \"\\00b7\"; padding: 0 .5ex}\n",
       "</style>\n",
       "<ol class=list-inline><li>15.5791075267108</li><li>-13.6915251014647</li><li>15.5791075267108</li><li>-13.6915251014647</li><li>15.5791075267108</li><li>-13.6915251014647</li></ol>\n"
      ],
      "text/latex": [
       "\\begin{enumerate*}\n",
       "\\item 15.5791075267108\n",
       "\\item -13.6915251014647\n",
       "\\item 15.5791075267108\n",
       "\\item -13.6915251014647\n",
       "\\item 15.5791075267108\n",
       "\\item -13.6915251014647\n",
       "\\end{enumerate*}\n"
      ],
      "text/markdown": [
       "1. 15.5791075267108\n",
       "2. -13.6915251014647\n",
       "3. 15.5791075267108\n",
       "4. -13.6915251014647\n",
       "5. 15.5791075267108\n",
       "6. -13.6915251014647\n",
       "\n",
       "\n"
      ],
      "text/plain": [
       "[1]  15.57911 -13.69153  15.57911 -13.69153  15.57911 -13.69153"
      ]
     },
     "metadata": {},
     "output_type": "display_data"
    }
   ],
   "source": [
    "cov_list"
   ]
  },
  {
   "cell_type": "code",
   "execution_count": 1902,
   "id": "22f6bbe5-92c1-4eed-89e1-71800f27a17f",
   "metadata": {
    "tags": []
   },
   "outputs": [
    {
     "data": {
      "text/html": [
       "<table class=\"dataframe\">\n",
       "<caption>A matrix: 1 × 1 of type dbl</caption>\n",
       "<tbody>\n",
       "\t<tr><td>1.894573</td></tr>\n",
       "</tbody>\n",
       "</table>\n"
      ],
      "text/latex": [
       "A matrix: 1 × 1 of type dbl\n",
       "\\begin{tabular}{l}\n",
       "\t 1.894573\\\\\n",
       "\\end{tabular}\n"
      ],
      "text/markdown": [
       "\n",
       "A matrix: 1 × 1 of type dbl\n",
       "\n",
       "| 1.894573 |\n",
       "\n"
      ],
      "text/plain": [
       "     [,1]    \n",
       "[1,] 1.894573"
      ]
     },
     "metadata": {},
     "output_type": "display_data"
    }
   ],
   "source": [
    "solve(sum(var_list)) %*% sum(cov_list)"
   ]
  },
  {
   "cell_type": "code",
   "execution_count": 276,
   "id": "4383fb02-3993-49a3-ad17-70013de2f921",
   "metadata": {
    "tags": []
   },
   "outputs": [],
   "source": []
  },
  {
   "cell_type": "code",
   "execution_count": 276,
   "id": "0577ba74-464b-4f84-a763-487152eb8f48",
   "metadata": {
    "tags": []
   },
   "outputs": [],
   "source": []
  },
  {
   "cell_type": "code",
   "execution_count": 276,
   "id": "a3f9ae82-0b6b-40e4-ba36-44c14bdedc72",
   "metadata": {
    "tags": []
   },
   "outputs": [],
   "source": []
  },
  {
   "cell_type": "code",
   "execution_count": 276,
   "id": "32d1a49f-a7a1-4da9-862d-3e1ce1eee455",
   "metadata": {
    "tags": []
   },
   "outputs": [],
   "source": []
  },
  {
   "cell_type": "code",
   "execution_count": 276,
   "id": "8e3ae824-e442-43d5-8a56-837b051054d0",
   "metadata": {
    "tags": []
   },
   "outputs": [],
   "source": []
  },
  {
   "cell_type": "code",
   "execution_count": 738,
   "id": "62bdc9b1-0cf3-454f-a68d-a391347ede1d",
   "metadata": {
    "tags": []
   },
   "outputs": [],
   "source": [
    "Y = (metrics_fit$value1)\n",
    "X = cbind(rep(1, length(Y)), metrics_fit$time_factor)\n",
    "y=Y; id=metrics_fit$BID; X=X; A=X"
   ]
  },
  {
   "cell_type": "code",
   "execution_count": 741,
   "id": "1905aa1b-5634-429c-9078-3cb0f69393eb",
   "metadata": {
    "tags": []
   },
   "outputs": [],
   "source": [
    "em2.lmem <- function(y,id,X,A=X,niter=50,C=NULL) {\n",
    "  uid <- unique(id)\n",
    "  y <- as.matrix(y)\n",
    "  X <- as.matrix(X)\n",
    "  A <- as.matrix(A)\n",
    "  N <- length(uid)\n",
    "  n <- length(y)\n",
    "  if (is.null(C)) \n",
    "    C <- matrix(1,ncol=ncol(A),nrow=ncol(A))\n",
    "  \n",
    "  beta <- as.vector(solve(t(X)%*%X)%*%t(X)%*%y)\n",
    "  Omega <- diag(rep(1,ncol(A)))\n",
    "  sigma2 <- 1\n",
    "  LL <- NULL\n",
    "  for (k in 1:niter) {\n",
    "    iO <- solve(Omega)\n",
    "    z <- as.vector(y - X%*%beta)\n",
    "    R <- 0\n",
    "    u <- NULL\n",
    "    for (i in 1:length(uid)) {\n",
    "      row.i <- which(id==id[i])\n",
    "      Ai <- A[row.i,]\n",
    "      zi <- z[row.i]\n",
    "      Gammai <- solve(t(Ai)%*%Ai/sigma2 + iO)\n",
    "      mui <- (Gammai%*%t(Ai)%*%zi)/sigma2\n",
    "      u <- c(u, Ai%*%mui)\n",
    "      R <- R + Gammai + mui%*%t(mui)\n",
    "    }\n",
    "    beta <- as.vector(solve(t(X)%*%X)%*%t(X)%*%(y-u))\n",
    "    Omega <- as.matrix(R/N)\n",
    "    sigma2 <- mean(y*(y - X%*%beta - u))\n",
    "  }\n",
    "  names(beta) <- row.names(Omega)\n",
    "  return(list(beta=beta, Omega=Omega, sigma2=sigma2))\n",
    "}"
   ]
  },
  {
   "cell_type": "code",
   "execution_count": 745,
   "id": "14935d75-0b20-42fe-b4a3-e2a8cbf68b9d",
   "metadata": {
    "tags": []
   },
   "outputs": [
    {
     "name": "stdout",
     "output_type": "stream",
     "text": [
      "$beta\n",
      "[1] 236.2201417   0.9530305\n",
      "\n",
      "$Omega\n",
      "         [,1]      [,2]\n",
      "[1,] 6924.004 1979.4020\n",
      "[2,] 1979.402  565.8988\n",
      "\n",
      "$sigma2\n",
      "[1] 254.8187\n",
      "\n"
     ]
    }
   ],
   "source": [
    "suppressWarnings(suppressMessages({\n",
    "res.em1 <- em2.lmem(y=Y, id=(metrics_fit$BID), X=X, A=X)\n",
    "print(res.em1)\n",
    "}))"
   ]
  },
  {
   "cell_type": "code",
   "execution_count": 736,
   "id": "a64ab213-298d-498c-afa6-20457959b780",
   "metadata": {
    "tags": []
   },
   "outputs": [],
   "source": [
    "lmer(value1 ~ time_factor + (time_factor|BID), data=metrics_fit, REML=FALSE)"
   ]
  },
  {
   "cell_type": "code",
   "execution_count": 736,
   "id": "7e65fe78-942b-449a-985b-849814fbf0e2",
   "metadata": {
    "tags": []
   },
   "outputs": [],
   "source": []
  },
  {
   "cell_type": "code",
   "execution_count": 736,
   "id": "ee7d00d0-80f3-4288-bf5b-ade10daebbc7",
   "metadata": {
    "tags": []
   },
   "outputs": [],
   "source": []
  },
  {
   "cell_type": "code",
   "execution_count": 736,
   "id": "407a04df-585a-47b9-a30f-681fd9d3145b",
   "metadata": {
    "tags": []
   },
   "outputs": [],
   "source": []
  },
  {
   "cell_type": "code",
   "execution_count": 736,
   "id": "17341ca6-66ae-4682-914f-9574a35a0336",
   "metadata": {
    "tags": []
   },
   "outputs": [],
   "source": []
  },
  {
   "cell_type": "code",
   "execution_count": 736,
   "id": "932e5354-92e2-4bb0-9221-0c49f0664b72",
   "metadata": {
    "tags": []
   },
   "outputs": [],
   "source": []
  },
  {
   "cell_type": "code",
   "execution_count": 736,
   "id": "33f568e9-4b4e-4f75-be28-5d712518b492",
   "metadata": {
    "tags": []
   },
   "outputs": [],
   "source": []
  },
  {
   "cell_type": "code",
   "execution_count": 736,
   "id": "e009402a-2e6e-488d-a625-6fb0a0669ce9",
   "metadata": {
    "tags": []
   },
   "outputs": [],
   "source": [
    "# Simulate a dataset for MML to compare with Linear regression."
   ]
  },
  {
   "cell_type": "code",
   "execution_count": 52,
   "id": "9267f4e8-dd05-4ef7-bedd-32d86cb4b07c",
   "metadata": {
    "tags": []
   },
   "outputs": [
    {
     "name": "stderr",
     "output_type": "stream",
     "text": [
      "\n",
      "Attaching package: ‘nlme’\n",
      "\n",
      "\n",
      "The following object is masked from ‘package:dplyr’:\n",
      "\n",
      "    collapse\n",
      "\n",
      "\n"
     ]
    }
   ],
   "source": [
    "library(tidyverse)\n",
    "library(psych)\n",
    "library(nlme)"
   ]
  },
  {
   "cell_type": "code",
   "execution_count": 143,
   "id": "8443aa5e-6fd8-42eb-b5a0-4ba7c73ce754",
   "metadata": {
    "tags": []
   },
   "outputs": [
    {
     "data": {
      "text/html": [
       "<table class=\"dataframe\">\n",
       "<caption>A data.frame: 6 × 4</caption>\n",
       "<thead>\n",
       "\t<tr><th></th><th scope=col>F1</th><th scope=col>V1</th><th scope=col>time</th><th scope=col>id</th></tr>\n",
       "\t<tr><th></th><th scope=col>&lt;dbl&gt;</th><th scope=col>&lt;dbl&gt;</th><th scope=col>&lt;dbl&gt;</th><th scope=col>&lt;fct&gt;</th></tr>\n",
       "</thead>\n",
       "<tbody>\n",
       "\t<tr><th scope=row>1</th><td> 9528.291</td><td> 8574.792</td><td> 2</td><td>1</td></tr>\n",
       "\t<tr><th scope=row>2</th><td> 8165.638</td><td> 7348.963</td><td> 3</td><td>1</td></tr>\n",
       "\t<tr><th scope=row>3</th><td>10860.680</td><td> 9774.111</td><td> 5</td><td>1</td></tr>\n",
       "\t<tr><th scope=row>4</th><td>11289.182</td><td>10160.269</td><td> 6</td><td>1</td></tr>\n",
       "\t<tr><th scope=row>5</th><td>11434.299</td><td>10290.772</td><td> 8</td><td>1</td></tr>\n",
       "\t<tr><th scope=row>6</th><td>12993.368</td><td>11694.418</td><td>10</td><td>1</td></tr>\n",
       "</tbody>\n",
       "</table>\n"
      ],
      "text/latex": [
       "A data.frame: 6 × 4\n",
       "\\begin{tabular}{r|llll}\n",
       "  & F1 & V1 & time & id\\\\\n",
       "  & <dbl> & <dbl> & <dbl> & <fct>\\\\\n",
       "\\hline\n",
       "\t1 &  9528.291 &  8574.792 &  2 & 1\\\\\n",
       "\t2 &  8165.638 &  7348.963 &  3 & 1\\\\\n",
       "\t3 & 10860.680 &  9774.111 &  5 & 1\\\\\n",
       "\t4 & 11289.182 & 10160.269 &  6 & 1\\\\\n",
       "\t5 & 11434.299 & 10290.772 &  8 & 1\\\\\n",
       "\t6 & 12993.368 & 11694.418 & 10 & 1\\\\\n",
       "\\end{tabular}\n"
      ],
      "text/markdown": [
       "\n",
       "A data.frame: 6 × 4\n",
       "\n",
       "| <!--/--> | F1 &lt;dbl&gt; | V1 &lt;dbl&gt; | time &lt;dbl&gt; | id &lt;fct&gt; |\n",
       "|---|---|---|---|---|\n",
       "| 1 |  9528.291 |  8574.792 |  2 | 1 |\n",
       "| 2 |  8165.638 |  7348.963 |  3 | 1 |\n",
       "| 3 | 10860.680 |  9774.111 |  5 | 1 |\n",
       "| 4 | 11289.182 | 10160.269 |  6 | 1 |\n",
       "| 5 | 11434.299 | 10290.772 |  8 | 1 |\n",
       "| 6 | 12993.368 | 11694.418 | 10 | 1 |\n",
       "\n"
      ],
      "text/plain": [
       "  F1        V1        time id\n",
       "1  9528.291  8574.792  2   1 \n",
       "2  8165.638  7348.963  3   1 \n",
       "3 10860.680  9774.111  5   1 \n",
       "4 11289.182 10160.269  6   1 \n",
       "5 11434.299 10290.772  8   1 \n",
       "6 12993.368 11694.418 10   1 "
      ]
     },
     "metadata": {},
     "output_type": "display_data"
    },
    {
     "data": {
      "text/plain": [
       "\n",
       "Call:\n",
       "lm(formula = F1 ~ time, data = df)\n",
       "\n",
       "Residuals:\n",
       "   Min     1Q Median     3Q    Max \n",
       " -4813  -2809  -1363   2510   8278 \n",
       "\n",
       "Coefficients:\n",
       "             Estimate Std. Error t value Pr(>|t|)    \n",
       "(Intercept) 12946.797    770.409  16.805   <2e-16 ***\n",
       "time           -1.286      3.233  -0.398    0.692    \n",
       "---\n",
       "Signif. codes:  0 ‘***’ 0.001 ‘**’ 0.01 ‘*’ 0.05 ‘.’ 0.1 ‘ ’ 1\n",
       "\n",
       "Residual standard error: 3566 on 98 degrees of freedom\n",
       "Multiple R-squared:  0.001611,\tAdjusted R-squared:  -0.008577 \n",
       "F-statistic: 0.1581 on 1 and 98 DF,  p-value: 0.6918\n"
      ]
     },
     "metadata": {},
     "output_type": "display_data"
    },
    {
     "data": {
      "text/plain": [
       "Linear mixed-effects model fit by REML\n",
       "  Data: df \n",
       "       AIC      BIC    logLik\n",
       "  1726.647 1736.987 -859.3236\n",
       "\n",
       "Random effects:\n",
       " Formula: ~1 | id\n",
       "        (Intercept) Residual\n",
       "StdDev:    3523.482 1147.629\n",
       "\n",
       "Fixed effects:  F1 ~ time \n",
       "                Value Std.Error DF   t-value p-value\n",
       "(Intercept) 12946.797 1141.4704 89 11.342210  0.0000\n",
       "time           -1.286    1.0405 89 -1.235552  0.2199\n",
       " Correlation: \n",
       "     (Intr)\n",
       "time -0.193\n",
       "\n",
       "Standardized Within-Group Residuals:\n",
       "        Min          Q1         Med          Q3         Max \n",
       "-2.20201559 -0.64483237 -0.01837308  0.59508143  2.50358816 \n",
       "\n",
       "Number of Observations: 100\n",
       "Number of Groups: 10 "
      ]
     },
     "metadata": {},
     "output_type": "display_data"
    },
    {
     "data": {
      "text/plain": [
       "Linear mixed-effects model fit by REML\n",
       "  Data: df \n",
       "       AIC      BIC    logLik\n",
       "  1702.398 1715.322 -846.1988\n",
       "\n",
       "Random effects:\n",
       " Formula: ~1 | id\n",
       "        (Intercept) Residual\n",
       "StdDev:    3487.824 1324.491\n",
       "\n",
       "Correlation Structure: AR(1)\n",
       " Formula: ~1 | id \n",
       " Parameter estimate(s):\n",
       "      Phi \n",
       "0.5991935 \n",
       "Fixed effects:  F1 ~ time \n",
       "                Value Std.Error DF   t-value p-value\n",
       "(Intercept) 12940.683 1179.0926 89 10.975120  0.0000\n",
       "time           -1.402    1.6394 89 -0.855295  0.3947\n",
       " Correlation: \n",
       "     (Intr)\n",
       "time -0.294\n",
       "\n",
       "Standardized Within-Group Residuals:\n",
       "        Min          Q1         Med          Q3         Max \n",
       "-1.86872979 -0.53160911 -0.02124734  0.51396904  2.10923468 \n",
       "\n",
       "Number of Observations: 100\n",
       "Number of Groups: 10 "
      ]
     },
     "metadata": {},
     "output_type": "display_data"
    },
    {
     "data": {
      "image/png": "[encoded data removed]",
      "text/plain": [
       "plot without title"
      ]
     },
     "metadata": {
      "image/png": {
       "height": 300,
       "width": 600
      }
     },
     "output_type": "display_data"
    }
   ],
   "source": [
    "#First, show a few results from sim.multi\n",
    "set.seed(11)\n",
    "df <- sim.multi(n.obs = 10, nvar = 1, nfact = 1, ntrials = 10, \n",
    "                mu=7000, \n",
    "                sigma = 5000,\n",
    "                sigma.i=1000, \n",
    "                AR1=1, plot=F) \n",
    "\n",
    "# BIDs n.obs=4 \n",
    "df %>% \n",
    "    mutate(time = round(time/24),\n",
    "          id = factor(id)) %>%\n",
    "    head()\n",
    "\n",
    "df %>% \n",
    "    mutate(time = round(time/24),\n",
    "          id = factor(id)) %>%\n",
    "    ggplot() +\n",
    "    geom_point(aes(time, F1, col=id))\n",
    "\n",
    "ols <- lm(F1 ~ time, df)\n",
    "summary(ols)\n",
    "fit <- lme(F1 ~ time, random=~1|id, df)\n",
    "summary(fit)\n",
    "ar1 <- lme(F1 ~ time, random=~1|id, correlation =  corAR1(form = ~1|id), df)\n",
    "summary(ar1)"
   ]
  },
  {
   "cell_type": "code",
   "execution_count": 3,
   "id": "ce5e388e-8e24-4e9f-b94a-fdc6da2cbc9c",
   "metadata": {
    "tags": []
   },
   "outputs": [
    {
     "name": "stderr",
     "output_type": "stream",
     "text": [
      "\n",
      "Attaching package: ‘MASS’\n",
      "\n",
      "\n",
      "The following object is masked from ‘package:gtsummary’:\n",
      "\n",
      "    select\n",
      "\n",
      "\n",
      "The following object is masked from ‘package:dplyr’:\n",
      "\n",
      "    select\n",
      "\n",
      "\n"
     ]
    }
   ],
   "source": [
    "library(MASS)\n",
    "library(nlme)\n",
    "library(lme4)"
   ]
  },
  {
   "cell_type": "code",
   "execution_count": 4,
   "id": "5a5bbe2b-ded8-4c68-af2e-c80e578744f7",
   "metadata": {
    "tags": []
   },
   "outputs": [
    {
     "data": {
      "text/html": [
       "<table class=\"dataframe\">\n",
       "<caption>A data.frame: 6 × 4</caption>\n",
       "<thead>\n",
       "\t<tr><th></th><th scope=col>subject</th><th scope=col>time</th><th scope=col>X</th><th scope=col>Y</th></tr>\n",
       "\t<tr><th></th><th scope=col>&lt;fct&gt;</th><th scope=col>&lt;int&gt;</th><th scope=col>&lt;fct&gt;</th><th scope=col>&lt;dbl&gt;</th></tr>\n",
       "</thead>\n",
       "<tbody>\n",
       "\t<tr><th scope=row>1</th><td>1</td><td>1</td><td>0</td><td> 6.1531459</td></tr>\n",
       "\t<tr><th scope=row>2</th><td>1</td><td>2</td><td>0</td><td> 0.7819602</td></tr>\n",
       "\t<tr><th scope=row>3</th><td>1</td><td>3</td><td>0</td><td> 9.7894450</td></tr>\n",
       "\t<tr><th scope=row>4</th><td>1</td><td>4</td><td>0</td><td>17.2200828</td></tr>\n",
       "\t<tr><th scope=row>5</th><td>1</td><td>5</td><td>0</td><td>10.7213593</td></tr>\n",
       "\t<tr><th scope=row>6</th><td>2</td><td>1</td><td>0</td><td>-6.2115982</td></tr>\n",
       "</tbody>\n",
       "</table>\n"
      ],
      "text/latex": [
       "A data.frame: 6 × 4\n",
       "\\begin{tabular}{r|llll}\n",
       "  & subject & time & X & Y\\\\\n",
       "  & <fct> & <int> & <fct> & <dbl>\\\\\n",
       "\\hline\n",
       "\t1 & 1 & 1 & 0 &  6.1531459\\\\\n",
       "\t2 & 1 & 2 & 0 &  0.7819602\\\\\n",
       "\t3 & 1 & 3 & 0 &  9.7894450\\\\\n",
       "\t4 & 1 & 4 & 0 & 17.2200828\\\\\n",
       "\t5 & 1 & 5 & 0 & 10.7213593\\\\\n",
       "\t6 & 2 & 1 & 0 & -6.2115982\\\\\n",
       "\\end{tabular}\n"
      ],
      "text/markdown": [
       "\n",
       "A data.frame: 6 × 4\n",
       "\n",
       "| <!--/--> | subject &lt;fct&gt; | time &lt;int&gt; | X &lt;fct&gt; | Y &lt;dbl&gt; |\n",
       "|---|---|---|---|---|\n",
       "| 1 | 1 | 1 | 0 |  6.1531459 |\n",
       "| 2 | 1 | 2 | 0 |  0.7819602 |\n",
       "| 3 | 1 | 3 | 0 |  9.7894450 |\n",
       "| 4 | 1 | 4 | 0 | 17.2200828 |\n",
       "| 5 | 1 | 5 | 0 | 10.7213593 |\n",
       "| 6 | 2 | 1 | 0 | -6.2115982 |\n",
       "\n"
      ],
      "text/plain": [
       "  subject time X Y         \n",
       "1 1       1    0  6.1531459\n",
       "2 1       2    0  0.7819602\n",
       "3 1       3    0  9.7894450\n",
       "4 1       4    0 17.2200828\n",
       "5 1       5    0 10.7213593\n",
       "6 2       1    0 -6.2115982"
      ]
     },
     "metadata": {},
     "output_type": "display_data"
    }
   ],
   "source": [
    "n <- 30  # Number of individuals\n",
    "t <- 4    # Number of repeated measures (time points)\n",
    "beta0 <- 5  # Intercept\n",
    "beta1 <- 2  # Slope for time\n",
    "sigma <- 1  # Residual standard deviation\n",
    "# rho <- 0.5  # Correlation between repeated measures (compound symmetry structure)\n",
    "rho <- 0.9  \n",
    "time <- rep(1:t, each = n)\n",
    "subject <- factor(rep(1:n, times = t))\n",
    "\n",
    "Sigma_CS <- sigma^2 * (rho * matrix(1, t, t) + diag(1 - rho, t))\n",
    "random_effects <- mvrnorm(n, rep(0, t), Sigma_CS)  # Random intercept with covariance structure\n",
    "\n",
    "X_subject <- factor(rep(0:1, each = n / 2))  # 50% subjects in group 0, 50% in group 1\n",
    "X <- rep(X_subject, each = t) \n",
    "beta1_group1 <- 0     # Slope for group 0 (X = 0)\n",
    "beta1_group2 <- 0.5  # Slope for group 1 (X = 1)\n",
    "\n",
    "# Create the linear predictor, including different slopes for each group\n",
    "mu <- rep(beta0, n * t) + ifelse(X == 1, beta1_group2 * time, beta1_group1 * time)\n",
    "Y <- mu + as.vector(random_effects) + rnorm(n * t, 0, sigma)\n",
    "\n",
    "data <- data.frame(\n",
    "  subject = factor(rep(1:n, each = t)),  # Each subject has 't' time points\n",
    "  time = rep(1:t, times = n),\n",
    "  X = factor(X),  # Treatment group\n",
    "  Y = Y\n",
    ")\n",
    "\n",
    "data %>%\n",
    "    arrange(subject) %>%\n",
    "    head()"
   ]
  },
  {
   "cell_type": "code",
   "execution_count": 5,
   "id": "3e12b0f6-cb1f-4b9c-8b73-8d75e084477d",
   "metadata": {
    "tags": []
   },
   "outputs": [
    {
     "data": {
      "text/plain": [
       "\n",
       "Call:\n",
       "lm(formula = Y ~ X, data = data)\n",
       "\n",
       "Residuals:\n",
       "     Min       1Q   Median       3Q      Max \n",
       "-19.8126  -5.4928  -0.2213   4.4702  21.4527 \n",
       "\n",
       "Coefficients:\n",
       "            Estimate Std. Error t value Pr(>|t|)    \n",
       "(Intercept)   4.2730     0.4687   9.117  < 2e-16 ***\n",
       "X1            2.3974     0.6628   3.617 0.000329 ***\n",
       "---\n",
       "Signif. codes:  0 ‘***’ 0.001 ‘**’ 0.01 ‘*’ 0.05 ‘.’ 0.1 ‘ ’ 1\n",
       "\n",
       "Residual standard error: 7.411 on 498 degrees of freedom\n",
       "Multiple R-squared:  0.0256,\tAdjusted R-squared:  0.02364 \n",
       "F-statistic: 13.08 on 1 and 498 DF,  p-value: 0.0003285\n"
      ]
     },
     "metadata": {},
     "output_type": "display_data"
    },
    {
     "data": {
      "text/plain": [
       "Linear mixed-effects model fit by REML\n",
       "  Data: data \n",
       "       AIC      BIC    logLik\n",
       "  3427.222 3444.064 -1709.611\n",
       "\n",
       "Random effects:\n",
       " Formula: ~1 | subject\n",
       "         (Intercept) Residual\n",
       "StdDev: 0.0007250507 7.410723\n",
       "\n",
       "Fixed effects:  Y ~ X \n",
       "               Value Std.Error  DF  t-value p-value\n",
       "(Intercept) 4.272977 0.4686953 400 9.116748   0e+00\n",
       "X1          2.397426 0.6628352  98 3.616926   5e-04\n",
       " Correlation: \n",
       "   (Intr)\n",
       "X1 -0.707\n",
       "\n",
       "Standardized Within-Group Residuals:\n",
       "       Min         Q1        Med         Q3        Max \n",
       "-2.6735003 -0.7411898 -0.0298608  0.6032018  2.8948182 \n",
       "\n",
       "Number of Observations: 500\n",
       "Number of Groups: 100 "
      ]
     },
     "metadata": {},
     "output_type": "display_data"
    },
    {
     "data": {
      "text/plain": [
       "Linear mixed-effects model fit by REML\n",
       "  Data: data \n",
       "       AIC      BIC    logLik\n",
       "  3429.222 3450.275 -1709.611\n",
       "\n",
       "Random effects:\n",
       " Formula: ~1 | subject\n",
       "         (Intercept) Residual\n",
       "StdDev: 0.0006313673 7.410714\n",
       "\n",
       "Correlation Structure: AR(1)\n",
       " Formula: ~1 | subject \n",
       " Parameter estimate(s):\n",
       "          Phi \n",
       "-0.0003981243 \n",
       "Fixed effects:  Y ~ X \n",
       "               Value Std.Error  DF  t-value p-value\n",
       "(Intercept) 4.273022 0.4685454 400 9.119760   0e+00\n",
       "X1          2.397427 0.6626233  98 3.618084   5e-04\n",
       " Correlation: \n",
       "   (Intr)\n",
       "X1 -0.707\n",
       "\n",
       "Standardized Within-Group Residuals:\n",
       "        Min          Q1         Med          Q3         Max \n",
       "-2.67350988 -0.74119681 -0.02986702  0.60319648  2.89481580 \n",
       "\n",
       "Number of Observations: 500\n",
       "Number of Groups: 100 "
      ]
     },
     "metadata": {},
     "output_type": "display_data"
    }
   ],
   "source": [
    "ols <- lm(Y ~ X, data)\n",
    "summary(ols)\n",
    "\n",
    "ri <- lme(Y ~ X, random = ~1|subject, data)\n",
    "summary(ri)\n",
    "\n",
    "ar1 <- lme(Y ~ X, random = ~1|subject, correlation = corAR1(form = ~1|subject), data)\n",
    "summary(ar1)"
   ]
  },
  {
   "cell_type": "code",
   "execution_count": 6,
   "id": "5612258f-fd3e-45d9-a60b-cb689b1eae9d",
   "metadata": {
    "tags": []
   },
   "outputs": [
    {
     "data": {
      "text/plain": [
       "\n",
       "Call:\n",
       "lm(formula = Y ~ time * X, data = data)\n",
       "\n",
       "Residuals:\n",
       "     Min       1Q   Median       3Q      Max \n",
       "-23.4747  -4.3409  -0.1788   4.2337  23.6538 \n",
       "\n",
       "Coefficients:\n",
       "            Estimate Std. Error t value Pr(>|t|)    \n",
       "(Intercept)   5.8183     1.0533   5.524 5.36e-08 ***\n",
       "time         -0.3351     0.3176  -1.055    0.292    \n",
       "X1            0.8466     1.4896   0.568    0.570    \n",
       "time:X1       0.3735     0.4491   0.832    0.406    \n",
       "---\n",
       "Signif. codes:  0 ‘***’ 0.001 ‘**’ 0.01 ‘*’ 0.05 ‘.’ 0.1 ‘ ’ 1\n",
       "\n",
       "Residual standard error: 7.101 on 496 degrees of freedom\n",
       "Multiple R-squared:  0.02116,\tAdjusted R-squared:  0.01524 \n",
       "F-statistic: 3.573 on 3 and 496 DF,  p-value: 0.01399\n"
      ]
     },
     "metadata": {},
     "output_type": "display_data"
    },
    {
     "data": {
      "text/plain": [
       "Linear mixed-effects model fit by REML\n",
       "  Data: data \n",
       "       AIC      BIC    logLik\n",
       "  3387.672 3412.912 -1687.836\n",
       "\n",
       "Random effects:\n",
       " Formula: ~1 | subject\n",
       "         (Intercept) Residual\n",
       "StdDev: 0.0004314121 7.101426\n",
       "\n",
       "Fixed effects:  Y ~ time * X \n",
       "                Value Std.Error  DF   t-value p-value\n",
       "(Intercept)  5.818341 1.0533118 398  5.523855  0.0000\n",
       "time        -0.335110 0.3175854 398 -1.055181  0.2920\n",
       "X1           0.846584 1.4896078  98  0.568327  0.5711\n",
       "time:X1      0.373544 0.4491336 398  0.831698  0.4061\n",
       " Correlation: \n",
       "        (Intr) time   X1    \n",
       "time    -0.905              \n",
       "X1      -0.707  0.640       \n",
       "time:X1  0.640 -0.707 -0.905\n",
       "\n",
       "Standardized Within-Group Residuals:\n",
       "       Min         Q1        Med         Q3        Max \n",
       "-3.3056355 -0.6112754 -0.0251786  0.5961757  3.3308463 \n",
       "\n",
       "Number of Observations: 500\n",
       "Number of Groups: 100 "
      ]
     },
     "metadata": {},
     "output_type": "display_data"
    },
    {
     "name": "stderr",
     "output_type": "stream",
     "text": [
      "\u001b[1m\u001b[22m`geom_smooth()` using formula = 'y ~ x'\n"
     ]
    },
    {
     "data": {
      "image/png": "[encoded data removed]",
      "text/plain": [
       "plot without title"
      ]
     },
     "metadata": {
      "image/png": {
       "height": 240,
       "width": 360
      }
     },
     "output_type": "display_data"
    },
    {
     "data": {
      "image/png": "[encoded data removed]",
      "text/plain": [
       "plot without title"
      ]
     },
     "metadata": {
      "image/png": {
       "height": 300,
       "width": 600
      }
     },
     "output_type": "display_data"
    }
   ],
   "source": [
    "ols <- lm(Y ~ time*X, data)\n",
    "summary(ols)\n",
    "\n",
    "ri <- lme(Y ~ time*X, random = ~1|subject, data)\n",
    "summary(ri)\n",
    "\n",
    "options(repr.plot.width=6, repr.plot.height=4)\n",
    "\n",
    "data %>%\n",
    "    arrange(subject) %>%\n",
    "    ggplot(aes(x=as.factor(X), y=Y)) + \n",
    "    geom_boxplot() \n",
    "\n",
    "options(repr.plot.width=10, repr.plot.height=5)\n",
    "\n",
    "data %>%\n",
    "    arrange(subject) %>%\n",
    "    ggplot(aes(x=time, y=Y)) + \n",
    "    geom_smooth(method = \"lm\") + \n",
    "    geom_point() + \n",
    "    facet_wrap(~X) "
   ]
  },
  {
   "cell_type": "code",
   "execution_count": 24,
   "id": "eeb8c25c-c36e-49e2-8b6c-53af1edf035e",
   "metadata": {
    "tags": []
   },
   "outputs": [],
   "source": []
  },
  {
   "cell_type": "code",
   "execution_count": 24,
   "id": "727cae38-fbb4-484d-ab25-2779df25fe72",
   "metadata": {
    "tags": []
   },
   "outputs": [],
   "source": []
  },
  {
   "cell_type": "code",
   "execution_count": 24,
   "id": "9e9086ff-fb96-49b3-8acc-8d7bedca59a2",
   "metadata": {
    "tags": []
   },
   "outputs": [],
   "source": []
  },
  {
   "cell_type": "code",
   "execution_count": 24,
   "id": "2f103bd0-a6aa-42bd-90fe-ad37c4314760",
   "metadata": {
    "tags": []
   },
   "outputs": [],
   "source": []
  },
  {
   "cell_type": "code",
   "execution_count": 144,
   "id": "77097757-0ac1-4f96-b786-e3680f7c4fb4",
   "metadata": {
    "tags": []
   },
   "outputs": [
    {
     "data": {
      "text/html": [
       "<table class=\"dataframe\">\n",
       "<caption>A matrix: 4 × 4 of type dbl</caption>\n",
       "<tbody>\n",
       "\t<tr><td>1.000</td><td>0.90</td><td>0.81</td><td>0.729</td></tr>\n",
       "\t<tr><td>0.900</td><td>1.00</td><td>0.90</td><td>0.810</td></tr>\n",
       "\t<tr><td>0.810</td><td>0.90</td><td>1.00</td><td>0.900</td></tr>\n",
       "\t<tr><td>0.729</td><td>0.81</td><td>0.90</td><td>1.000</td></tr>\n",
       "</tbody>\n",
       "</table>\n"
      ],
      "text/latex": [
       "A matrix: 4 × 4 of type dbl\n",
       "\\begin{tabular}{llll}\n",
       "\t 1.000 & 0.90 & 0.81 & 0.729\\\\\n",
       "\t 0.900 & 1.00 & 0.90 & 0.810\\\\\n",
       "\t 0.810 & 0.90 & 1.00 & 0.900\\\\\n",
       "\t 0.729 & 0.81 & 0.90 & 1.000\\\\\n",
       "\\end{tabular}\n"
      ],
      "text/markdown": [
       "\n",
       "A matrix: 4 × 4 of type dbl\n",
       "\n",
       "| 1.000 | 0.90 | 0.81 | 0.729 |\n",
       "| 0.900 | 1.00 | 0.90 | 0.810 |\n",
       "| 0.810 | 0.90 | 1.00 | 0.900 |\n",
       "| 0.729 | 0.81 | 0.90 | 1.000 |\n",
       "\n"
      ],
      "text/plain": [
       "     [,1]  [,2] [,3] [,4] \n",
       "[1,] 1.000 0.90 0.81 0.729\n",
       "[2,] 0.900 1.00 0.90 0.810\n",
       "[3,] 0.810 0.90 1.00 0.900\n",
       "[4,] 0.729 0.81 0.90 1.000"
      ]
     },
     "metadata": {},
     "output_type": "display_data"
    },
    {
     "data": {
      "text/html": [
       "<table class=\"dataframe\">\n",
       "<caption>A matrix: 5 × 5 of type dbl</caption>\n",
       "<thead>\n",
       "\t<tr><th></th><th scope=col>e1</th><th scope=col>e2</th><th scope=col>e3</th><th scope=col>e4</th><th scope=col>BID</th></tr>\n",
       "</thead>\n",
       "<tbody>\n",
       "\t<tr><th scope=row>e1</th><td>1.0000000</td><td>0.78933664</td><td> 0.71586287</td><td> 0.5754709</td><td> 0.10265452</td></tr>\n",
       "\t<tr><th scope=row>e2</th><td>0.7893366</td><td>1.00000000</td><td> 0.86903554</td><td> 0.7061573</td><td> 0.06551985</td></tr>\n",
       "\t<tr><th scope=row>e3</th><td>0.7158629</td><td>0.86903554</td><td> 1.00000000</td><td> 0.8336674</td><td>-0.03297693</td></tr>\n",
       "\t<tr><th scope=row>e4</th><td>0.5754709</td><td>0.70615735</td><td> 0.83366736</td><td> 1.0000000</td><td>-0.20636000</td></tr>\n",
       "\t<tr><th scope=row>BID</th><td>0.1026545</td><td>0.06551985</td><td>-0.03297693</td><td>-0.2063600</td><td> 1.00000000</td></tr>\n",
       "</tbody>\n",
       "</table>\n"
      ],
      "text/latex": [
       "A matrix: 5 × 5 of type dbl\n",
       "\\begin{tabular}{r|lllll}\n",
       "  & e1 & e2 & e3 & e4 & BID\\\\\n",
       "\\hline\n",
       "\te1 & 1.0000000 & 0.78933664 &  0.71586287 &  0.5754709 &  0.10265452\\\\\n",
       "\te2 & 0.7893366 & 1.00000000 &  0.86903554 &  0.7061573 &  0.06551985\\\\\n",
       "\te3 & 0.7158629 & 0.86903554 &  1.00000000 &  0.8336674 & -0.03297693\\\\\n",
       "\te4 & 0.5754709 & 0.70615735 &  0.83366736 &  1.0000000 & -0.20636000\\\\\n",
       "\tBID & 0.1026545 & 0.06551985 & -0.03297693 & -0.2063600 &  1.00000000\\\\\n",
       "\\end{tabular}\n"
      ],
      "text/markdown": [
       "\n",
       "A matrix: 5 × 5 of type dbl\n",
       "\n",
       "| <!--/--> | e1 | e2 | e3 | e4 | BID |\n",
       "|---|---|---|---|---|---|\n",
       "| e1 | 1.0000000 | 0.78933664 |  0.71586287 |  0.5754709 |  0.10265452 |\n",
       "| e2 | 0.7893366 | 1.00000000 |  0.86903554 |  0.7061573 |  0.06551985 |\n",
       "| e3 | 0.7158629 | 0.86903554 |  1.00000000 |  0.8336674 | -0.03297693 |\n",
       "| e4 | 0.5754709 | 0.70615735 |  0.83366736 |  1.0000000 | -0.20636000 |\n",
       "| BID | 0.1026545 | 0.06551985 | -0.03297693 | -0.2063600 |  1.00000000 |\n",
       "\n"
      ],
      "text/plain": [
       "    e1        e2         e3          e4         BID        \n",
       "e1  1.0000000 0.78933664  0.71586287  0.5754709  0.10265452\n",
       "e2  0.7893366 1.00000000  0.86903554  0.7061573  0.06551985\n",
       "e3  0.7158629 0.86903554  1.00000000  0.8336674 -0.03297693\n",
       "e4  0.5754709 0.70615735  0.83366736  1.0000000 -0.20636000\n",
       "BID 0.1026545 0.06551985 -0.03297693 -0.2063600  1.00000000"
      ]
     },
     "metadata": {},
     "output_type": "display_data"
    },
    {
     "data": {
      "text/html": [
       "<table class=\"dataframe\">\n",
       "<caption>A data.frame: 6 × 5</caption>\n",
       "<thead>\n",
       "\t<tr><th></th><th scope=col>time</th><th scope=col>e</th><th scope=col>id</th><th scope=col>Treatment</th><th scope=col>Weight</th></tr>\n",
       "\t<tr><th></th><th scope=col>&lt;fct&gt;</th><th scope=col>&lt;dbl&gt;</th><th scope=col>&lt;int&gt;</th><th scope=col>&lt;fct&gt;</th><th scope=col>&lt;dbl&gt;</th></tr>\n",
       "</thead>\n",
       "<tbody>\n",
       "\t<tr><th scope=row>1.1</th><td>1</td><td>-0.08058804</td><td>1</td><td>B</td><td>97.33924</td></tr>\n",
       "\t<tr><th scope=row>1.2</th><td>2</td><td> 0.72314110</td><td>1</td><td>B</td><td>98.14297</td></tr>\n",
       "\t<tr><th scope=row>1.3</th><td>3</td><td> 0.67891887</td><td>1</td><td>B</td><td>98.09874</td></tr>\n",
       "\t<tr><th scope=row>1.4</th><td>4</td><td> 0.88410129</td><td>1</td><td>B</td><td>98.30393</td></tr>\n",
       "\t<tr><th scope=row>2.1</th><td>1</td><td> 0.09100447</td><td>2</td><td>A</td><td>70.99527</td></tr>\n",
       "\t<tr><th scope=row>2.2</th><td>2</td><td>-0.70146722</td><td>2</td><td>A</td><td>69.20280</td></tr>\n",
       "</tbody>\n",
       "</table>\n"
      ],
      "text/latex": [
       "A data.frame: 6 × 5\n",
       "\\begin{tabular}{r|lllll}\n",
       "  & time & e & id & Treatment & Weight\\\\\n",
       "  & <fct> & <dbl> & <int> & <fct> & <dbl>\\\\\n",
       "\\hline\n",
       "\t1.1 & 1 & -0.08058804 & 1 & B & 97.33924\\\\\n",
       "\t1.2 & 2 &  0.72314110 & 1 & B & 98.14297\\\\\n",
       "\t1.3 & 3 &  0.67891887 & 1 & B & 98.09874\\\\\n",
       "\t1.4 & 4 &  0.88410129 & 1 & B & 98.30393\\\\\n",
       "\t2.1 & 1 &  0.09100447 & 2 & A & 70.99527\\\\\n",
       "\t2.2 & 2 & -0.70146722 & 2 & A & 69.20280\\\\\n",
       "\\end{tabular}\n"
      ],
      "text/markdown": [
       "\n",
       "A data.frame: 6 × 5\n",
       "\n",
       "| <!--/--> | time &lt;fct&gt; | e &lt;dbl&gt; | id &lt;int&gt; | Treatment &lt;fct&gt; | Weight &lt;dbl&gt; |\n",
       "|---|---|---|---|---|---|\n",
       "| 1.1 | 1 | -0.08058804 | 1 | B | 97.33924 |\n",
       "| 1.2 | 2 |  0.72314110 | 1 | B | 98.14297 |\n",
       "| 1.3 | 3 |  0.67891887 | 1 | B | 98.09874 |\n",
       "| 1.4 | 4 |  0.88410129 | 1 | B | 98.30393 |\n",
       "| 2.1 | 1 |  0.09100447 | 2 | A | 70.99527 |\n",
       "| 2.2 | 2 | -0.70146722 | 2 | A | 69.20280 |\n",
       "\n"
      ],
      "text/plain": [
       "    time e           id Treatment Weight  \n",
       "1.1 1    -0.08058804 1  B         97.33924\n",
       "1.2 2     0.72314110 1  B         98.14297\n",
       "1.3 3     0.67891887 1  B         98.09874\n",
       "1.4 4     0.88410129 1  B         98.30393\n",
       "2.1 1     0.09100447 2  A         70.99527\n",
       "2.2 2    -0.70146722 2  A         69.20280"
      ]
     },
     "metadata": {},
     "output_type": "display_data"
    },
    {
     "data": {
      "text/html": [
       "<table class=\"dataframe\">\n",
       "<caption>A data.frame: 2 × 2</caption>\n",
       "<thead>\n",
       "\t<tr><th scope=col>Treatment</th><th scope=col>mean(Weight)</th></tr>\n",
       "\t<tr><th scope=col>&lt;fct&gt;</th><th scope=col>&lt;dbl&gt;</th></tr>\n",
       "</thead>\n",
       "<tbody>\n",
       "\t<tr><td>B</td><td>80.27273</td></tr>\n",
       "\t<tr><td>A</td><td>76.97094</td></tr>\n",
       "</tbody>\n",
       "</table>\n"
      ],
      "text/latex": [
       "A data.frame: 2 × 2\n",
       "\\begin{tabular}{ll}\n",
       " Treatment & mean(Weight)\\\\\n",
       " <fct> & <dbl>\\\\\n",
       "\\hline\n",
       "\t B & 80.27273\\\\\n",
       "\t A & 76.97094\\\\\n",
       "\\end{tabular}\n"
      ],
      "text/markdown": [
       "\n",
       "A data.frame: 2 × 2\n",
       "\n",
       "| Treatment &lt;fct&gt; | mean(Weight) &lt;dbl&gt; |\n",
       "|---|---|\n",
       "| B | 80.27273 |\n",
       "| A | 76.97094 |\n",
       "\n"
      ],
      "text/plain": [
       "  Treatment mean(Weight)\n",
       "1 B         80.27273    \n",
       "2 A         76.97094    "
      ]
     },
     "metadata": {},
     "output_type": "display_data"
    },
    {
     "data": {
      "text/html": [
       "<table class=\"dataframe\">\n",
       "<caption>A data.frame: 4 × 2</caption>\n",
       "<thead>\n",
       "\t<tr><th scope=col>time</th><th scope=col>mean(Weight)</th></tr>\n",
       "\t<tr><th scope=col>&lt;fct&gt;</th><th scope=col>&lt;dbl&gt;</th></tr>\n",
       "</thead>\n",
       "<tbody>\n",
       "\t<tr><td>1</td><td>79.32564</td></tr>\n",
       "\t<tr><td>2</td><td>78.89829</td></tr>\n",
       "\t<tr><td>3</td><td>78.38908</td></tr>\n",
       "\t<tr><td>4</td><td>77.87432</td></tr>\n",
       "</tbody>\n",
       "</table>\n"
      ],
      "text/latex": [
       "A data.frame: 4 × 2\n",
       "\\begin{tabular}{ll}\n",
       " time & mean(Weight)\\\\\n",
       " <fct> & <dbl>\\\\\n",
       "\\hline\n",
       "\t 1 & 79.32564\\\\\n",
       "\t 2 & 78.89829\\\\\n",
       "\t 3 & 78.38908\\\\\n",
       "\t 4 & 77.87432\\\\\n",
       "\\end{tabular}\n"
      ],
      "text/markdown": [
       "\n",
       "A data.frame: 4 × 2\n",
       "\n",
       "| time &lt;fct&gt; | mean(Weight) &lt;dbl&gt; |\n",
       "|---|---|\n",
       "| 1 | 79.32564 |\n",
       "| 2 | 78.89829 |\n",
       "| 3 | 78.38908 |\n",
       "| 4 | 77.87432 |\n",
       "\n"
      ],
      "text/plain": [
       "  time mean(Weight)\n",
       "1 1    79.32564    \n",
       "2 2    78.89829    \n",
       "3 3    78.38908    \n",
       "4 4    77.87432    "
      ]
     },
     "metadata": {},
     "output_type": "display_data"
    }
   ],
   "source": [
    "# creating covariance structure\n",
    "\n",
    "n=30\n",
    "t = 4\n",
    "M <- rep(0,t) # vector of means\n",
    "\n",
    "# Covariance matrix \n",
    "# V <- matrix(c(1, 0.5, 0.0, 0.0,\n",
    "#               0.5, 1, 0.5, 0.0,\n",
    "#               0.0, 0.5, 1, 0.5,\n",
    "#               0.0, 0.0, 0.5, 1), nrow = t, byrow = TRUE)\n",
    "\n",
    "rho = .9\n",
    "sigma = 1\n",
    "V <- sigma^2 * matrix(c(1, rho, rho^2, rho^3, \n",
    "              rho, 1, rho, rho^2, \n",
    "              rho^2, rho, 1, rho, \n",
    "              rho^3, rho^2, rho, 1), nrow = t, byrow = TRUE)\n",
    "V\n",
    "set.seed(11)  \n",
    "\n",
    "draws <- mvrnorm(n = n, mu = M, Sigma = V)\n",
    "draws_df <- data.frame(draws)\n",
    "names(draws_df) <- c(\"e1\", \"e2\", \"e3\", \"e4\")\n",
    "\n",
    "draws_df <- draws_df %>%\n",
    "    mutate(BID = rep(1:n),\n",
    "           )\n",
    "cor(draws_df) # checking Cov structure\n",
    "\n",
    "set.seed(11)  \n",
    "\n",
    "treatment <- c(NA)\n",
    "trt = c(rep('A', 15), rep('B', 15))\n",
    "trt = sample(trt, replace = F)\n",
    "for(i in 1:n) {\n",
    "    s <- sample(trt[i], size = 1)\n",
    "    treatment <- c(treatment, rep(s, t))\n",
    "}\n",
    "treatment <- as.factor(treatment[-1])\n",
    "\n",
    "# subject's random effect (StdDev: Intercept) \n",
    "u_0i <- c(NA)\n",
    "for(i in 1:n) {\n",
    "    s <- rnorm(1, 0, sigma)\n",
    "    u_0i <- c(u_0i, rep(s, t))\n",
    "}\n",
    "u_0i <- u_0i[-1]\n",
    "\n",
    "# \n",
    "mu = rnorm(n, 80, 10)\n",
    "beta_0 <- list(30)\n",
    "for(i in 1:n) {\n",
    "    beta_0[[i]] <- rep(mu[i], t)\n",
    "}\n",
    "beta_0 <- unlist(beta_0)\n",
    "\n",
    "\n",
    "u_1i <- c(NA)\n",
    "for(i in 1:n) {\n",
    "    s = rep(-1,t)\n",
    "    u_1i <- c(u_1i, rep(s, t))\n",
    "}\n",
    "u_1i <- u_1i[-1]\n",
    "\n",
    "df_long <- reshape(draws_df, varying = paste0(\"e\", 1:t), v.names = \"e\", \n",
    "                    direction = \"long\") %>%\n",
    "    arrange(BID) %>%\n",
    "    mutate(time = factor(rep(1:t, n)),\n",
    "           Treatment = treatment) %>%\n",
    "    dplyr::select(-BID)\n",
    "\n",
    "\n",
    "weight <- beta_0 + u_0i + ifelse(treatment=='B', 0, as.numeric(df_long$time)*u_1i) + df_long$e\n",
    "df_long <- df_long %>%\n",
    "    mutate(Weight = weight) \n",
    "\n",
    "df_long %>%\n",
    "    head()\n",
    "\n",
    "df_long %>%\n",
    "    # group_by(Treatment, time) %>%\n",
    "    summarise(mean(Weight), .by = Treatment)\n",
    "\n",
    "df_long %>%\n",
    "    # group_by(Treatment, time) %>%\n",
    "    summarise(mean(Weight), .by = time)"
   ]
  },
  {
   "cell_type": "code",
   "execution_count": 153,
   "id": "99af35d3-4a9d-4e47-8aa8-43df19f56495",
   "metadata": {
    "tags": []
   },
   "outputs": [
    {
     "data": {
      "text/plain": [
       "\n",
       "Call:\n",
       "lm(formula = Weight ~ Treatment * as.numeric(time), data = df_long)\n",
       "\n",
       "Residuals:\n",
       "    Min      1Q  Median      3Q     Max \n",
       "-14.931  -7.734  -0.970   6.551  24.113 \n",
       "\n",
       "Coefficients:\n",
       "                            Estimate Std. Error t value Pr(>|t|)    \n",
       "(Intercept)                  79.3468     2.9838  26.592   <2e-16 ***\n",
       "TreatmentB                    0.9816     4.2198   0.233    0.816    \n",
       "as.numeric(time)             -0.9504     1.0895  -0.872    0.385    \n",
       "TreatmentB:as.numeric(time)   0.9281     1.5408   0.602    0.548    \n",
       "---\n",
       "Signif. codes:  0 ‘***’ 0.001 ‘**’ 0.01 ‘*’ 0.05 ‘.’ 0.1 ‘ ’ 1\n",
       "\n",
       "Residual standard error: 9.436 on 116 degrees of freedom\n",
       "Multiple R-squared:  0.03682,\tAdjusted R-squared:  0.01191 \n",
       "F-statistic: 1.478 on 3 and 116 DF,  p-value: 0.2241\n"
      ]
     },
     "metadata": {},
     "output_type": "display_data"
    },
    {
     "data": {
      "text/html": [
       "'######################## Random Intercept ###############################'"
      ],
      "text/latex": [
       "'\\#\\#\\#\\#\\#\\#\\#\\#\\#\\#\\#\\#\\#\\#\\#\\#\\#\\#\\#\\#\\#\\#\\#\\# Random Intercept \\#\\#\\#\\#\\#\\#\\#\\#\\#\\#\\#\\#\\#\\#\\#\\#\\#\\#\\#\\#\\#\\#\\#\\#\\#\\#\\#\\#\\#\\#\\#'"
      ],
      "text/markdown": [
       "'######################## Random Intercept ###############################'"
      ],
      "text/plain": [
       "[1] \"######################## Random Intercept ###############################\""
      ]
     },
     "metadata": {},
     "output_type": "display_data"
    },
    {
     "data": {
      "text/plain": [
       "Linear mixed-effects model fit by REML\n",
       "  Data: df_long \n",
       "      AIC      BIC    logLik\n",
       "  351.533 368.0545 -169.7665\n",
       "\n",
       "Random effects:\n",
       " Formula: ~1 | id\n",
       "        (Intercept)  Residual\n",
       "StdDev:    9.595042 0.3764617\n",
       "\n",
       "Fixed effects:  Weight ~ Treatment * as.numeric(time) \n",
       "                               Value Std.Error DF   t-value p-value\n",
       "(Intercept)                 79.34683  2.480288 88  31.99098  0.0000\n",
       "TreatmentB                   0.98157  3.507657 28   0.27984  0.7817\n",
       "as.numeric(time)            -0.95036  0.043470 88 -21.86237  0.0000\n",
       "TreatmentB:as.numeric(time)  0.92809  0.061476 88  15.09677  0.0000\n",
       " Correlation: \n",
       "                            (Intr) TrtmnB as.n()\n",
       "TreatmentB                  -0.707              \n",
       "as.numeric(time)            -0.044  0.031       \n",
       "TreatmentB:as.numeric(time)  0.031 -0.044 -0.707\n",
       "\n",
       "Standardized Within-Group Residuals:\n",
       "       Min         Q1        Med         Q3        Max \n",
       "-2.4232514 -0.5563747  0.0034426  0.5752589  1.8424035 \n",
       "\n",
       "Number of Observations: 120\n",
       "Number of Groups: 30 "
      ]
     },
     "metadata": {},
     "output_type": "display_data"
    },
    {
     "data": {
      "text/html": [
       "'######################## AR1 ###############################'"
      ],
      "text/latex": [
       "'\\#\\#\\#\\#\\#\\#\\#\\#\\#\\#\\#\\#\\#\\#\\#\\#\\#\\#\\#\\#\\#\\#\\#\\# AR1 \\#\\#\\#\\#\\#\\#\\#\\#\\#\\#\\#\\#\\#\\#\\#\\#\\#\\#\\#\\#\\#\\#\\#\\#\\#\\#\\#\\#\\#\\#\\#'"
      ],
      "text/markdown": [
       "'######################## AR1 ###############################'"
      ],
      "text/plain": [
       "[1] \"######################## AR1 ###############################\""
      ]
     },
     "metadata": {},
     "output_type": "display_data"
    },
    {
     "data": {
      "text/plain": [
       "Linear mixed-effects model fit by REML\n",
       "  Data: df_long \n",
       "       AIC      BIC    logLik\n",
       "  337.2504 356.5255 -161.6252\n",
       "\n",
       "Random effects:\n",
       " Formula: ~1 | id\n",
       "        (Intercept)  Residual\n",
       "StdDev:    9.560699 0.8264803\n",
       "\n",
       "Correlation Structure: AR(1)\n",
       " Formula: ~1 | id \n",
       " Parameter estimate(s):\n",
       "      Phi \n",
       "0.8597952 \n",
       "Fixed effects:  Weight ~ Treatment * as.numeric(time) \n",
       "                               Value Std.Error DF   t-value p-value\n",
       "(Intercept)                 79.35420  2.480722 88  31.98835  0.0000\n",
       "TreatmentB                   0.92154  3.508271 28   0.26268  0.7947\n",
       "as.numeric(time)            -0.95064  0.060724 88 -15.65505  0.0000\n",
       "TreatmentB:as.numeric(time)  0.93359  0.085877 88  10.87122  0.0000\n",
       " Correlation: \n",
       "                            (Intr) TrtmnB as.n()\n",
       "TreatmentB                  -0.707              \n",
       "as.numeric(time)            -0.061  0.043       \n",
       "TreatmentB:as.numeric(time)  0.043 -0.061 -0.707\n",
       "\n",
       "Standardized Within-Group Residuals:\n",
       "       Min         Q1        Med         Q3        Max \n",
       "-1.1954946 -0.2539385  0.0459361  0.3141642  1.0987797 \n",
       "\n",
       "Number of Observations: 120\n",
       "Number of Groups: 30 "
      ]
     },
     "metadata": {},
     "output_type": "display_data"
    },
    {
     "data": {
      "text/html": [
       "<table class=\"dataframe\">\n",
       "<caption>A anova: 3 × 3</caption>\n",
       "<thead>\n",
       "\t<tr><th></th><th scope=col>Chisq</th><th scope=col>Df</th><th scope=col>Pr(&gt;Chisq)</th></tr>\n",
       "\t<tr><th></th><th scope=col>&lt;dbl&gt;</th><th scope=col>&lt;dbl&gt;</th><th scope=col>&lt;dbl&gt;</th></tr>\n",
       "</thead>\n",
       "<tbody>\n",
       "\t<tr><th scope=row>Treatment</th><td>  0.8643407</td><td>1</td><td>3.525268e-01</td></tr>\n",
       "\t<tr><th scope=row>as.numeric(time)</th><td>126.9761688</td><td>1</td><td>1.880177e-29</td></tr>\n",
       "\t<tr><th scope=row>Treatment:as.numeric(time)</th><td>118.1834076</td><td>1</td><td>1.580741e-27</td></tr>\n",
       "</tbody>\n",
       "</table>\n"
      ],
      "text/latex": [
       "A anova: 3 × 3\n",
       "\\begin{tabular}{r|lll}\n",
       "  & Chisq & Df & Pr(>Chisq)\\\\\n",
       "  & <dbl> & <dbl> & <dbl>\\\\\n",
       "\\hline\n",
       "\tTreatment &   0.8643407 & 1 & 3.525268e-01\\\\\n",
       "\tas.numeric(time) & 126.9761688 & 1 & 1.880177e-29\\\\\n",
       "\tTreatment:as.numeric(time) & 118.1834076 & 1 & 1.580741e-27\\\\\n",
       "\\end{tabular}\n"
      ],
      "text/markdown": [
       "\n",
       "A anova: 3 × 3\n",
       "\n",
       "| <!--/--> | Chisq &lt;dbl&gt; | Df &lt;dbl&gt; | Pr(&gt;Chisq) &lt;dbl&gt; |\n",
       "|---|---|---|---|\n",
       "| Treatment |   0.8643407 | 1 | 3.525268e-01 |\n",
       "| as.numeric(time) | 126.9761688 | 1 | 1.880177e-29 |\n",
       "| Treatment:as.numeric(time) | 118.1834076 | 1 | 1.580741e-27 |\n",
       "\n"
      ],
      "text/plain": [
       "                           Chisq       Df Pr(>Chisq)  \n",
       "Treatment                    0.8643407 1  3.525268e-01\n",
       "as.numeric(time)           126.9761688 1  1.880177e-29\n",
       "Treatment:as.numeric(time) 118.1834076 1  1.580741e-27"
      ]
     },
     "metadata": {},
     "output_type": "display_data"
    },
    {
     "data": {
      "text/html": [
       "'######################## Random Slope ###############################'"
      ],
      "text/latex": [
       "'\\#\\#\\#\\#\\#\\#\\#\\#\\#\\#\\#\\#\\#\\#\\#\\#\\#\\#\\#\\#\\#\\#\\#\\# Random Slope \\#\\#\\#\\#\\#\\#\\#\\#\\#\\#\\#\\#\\#\\#\\#\\#\\#\\#\\#\\#\\#\\#\\#\\#\\#\\#\\#\\#\\#\\#\\#'"
      ],
      "text/markdown": [
       "'######################## Random Slope ###############################'"
      ],
      "text/plain": [
       "[1] \"######################## Random Slope ###############################\""
      ]
     },
     "metadata": {},
     "output_type": "display_data"
    },
    {
     "data": {
      "text/plain": [
       "Linear mixed-effects model fit by REML\n",
       "  Data: df_long \n",
       "      AIC      BIC    logLik\n",
       "  355.533 377.5617 -169.7665\n",
       "\n",
       "Random effects:\n",
       " Formula: ~1 + Treatment | id\n",
       " Structure: General positive-definite, Log-Cholesky parametrization\n",
       "            StdDev       Corr  \n",
       "(Intercept) 9.5950397957 (Intr)\n",
       "TreatmentB  0.0001873292 0.002 \n",
       "Residual    0.3764616974       \n",
       "\n",
       "Fixed effects:  Weight ~ Treatment * as.numeric(time) \n",
       "                               Value Std.Error DF   t-value p-value\n",
       "(Intercept)                 79.34683  2.480287 88  31.99099  0.0000\n",
       "TreatmentB                   0.98157  3.507656 28   0.27984  0.7817\n",
       "as.numeric(time)            -0.95036  0.043470 88 -21.86237  0.0000\n",
       "TreatmentB:as.numeric(time)  0.92809  0.061476 88  15.09676  0.0000\n",
       " Correlation: \n",
       "                            (Intr) TrtmnB as.n()\n",
       "TreatmentB                  -0.707              \n",
       "as.numeric(time)            -0.044  0.031       \n",
       "TreatmentB:as.numeric(time)  0.031 -0.044 -0.707\n",
       "\n",
       "Standardized Within-Group Residuals:\n",
       "         Min           Q1          Med           Q3          Max \n",
       "-2.423251284 -0.556374691  0.003442599  0.575258840  1.842403345 \n",
       "\n",
       "Number of Observations: 120\n",
       "Number of Groups: 30 "
      ]
     },
     "metadata": {},
     "output_type": "display_data"
    }
   ],
   "source": [
    "ols <- lm(Weight ~ Treatment*as.numeric(time), df_long)\n",
    "summary(ols)\n",
    "\n",
    "(paste('######################## Random Intercept ###############################'))\n",
    "ri <- lme(Weight ~ Treatment*as.numeric(time), random = ~1|id, df_long)\n",
    "summary(ri)\n",
    "\n",
    "(paste('######################## AR1 ###############################'))\n",
    "ri <- lme(Weight ~ Treatment*as.numeric(time), random = ~1|id, correlation = corAR1(form = ~1|id), df_long)\n",
    "summary(ri)\n",
    "car::Anova(ri)\n",
    "\n",
    "(paste('######################## Random Slope ###############################'))\n",
    "ri <- lme(Weight ~ Treatment*as.numeric(time), random = ~1+Treatment|id, df_long)\n",
    "summary(ri)\n",
    "car::Anova(ri)\n",
    "\n",
    "# df_long %>%\n",
    "#     ggplot(aes(x=as.factor(Sex), y=Weight)) + \n",
    "#     geom_boxplot() "
   ]
  },
  {
   "cell_type": "code",
   "execution_count": 134,
   "id": "ab16c672-8be7-45db-87f8-8deda92fd4cb",
   "metadata": {
    "tags": []
   },
   "outputs": [
    {
     "name": "stderr",
     "output_type": "stream",
     "text": [
      "\u001b[1m\u001b[22m`geom_smooth()` using formula = 'y ~ x'\n"
     ]
    },
    {
     "data": {
      "image/png": "[encoded data removed]",
      "text/plain": [
       "plot without title"
      ]
     },
     "metadata": {
      "image/png": {
       "height": 900,
       "width": 1500
      }
     },
     "output_type": "display_data"
    }
   ],
   "source": [
    "options(repr.plot.width=25, repr.plot.height=15)\n",
    "\n",
    "df_long %>%\n",
    "    ggplot(aes(x=time, y=Weight, col=Treatment)) + \n",
    "    geom_smooth(method = \"lm\") + \n",
    "    geom_point() + \n",
    "    facet_wrap(~id) "
   ]
  },
  {
   "cell_type": "code",
   "execution_count": 736,
   "id": "27175c2b-0715-41a9-9b15-196cd8471638",
   "metadata": {
    "tags": []
   },
   "outputs": [],
   "source": []
  },
  {
   "cell_type": "code",
   "execution_count": 157,
   "id": "aa1e1f5b-7673-4426-9b74-2d3266a30650",
   "metadata": {
    "tags": []
   },
   "outputs": [
    {
     "data": {
      "text/html": [
       "<style>\n",
       ".list-inline {list-style: none; margin:0; padding: 0}\n",
       ".list-inline>li {display: inline-block}\n",
       ".list-inline>li:not(:last-child)::after {content: \"\\00b7\"; padding: 0 .5ex}\n",
       "</style>\n",
       "<ol class=list-inline><li>4</li><li>4</li><li>4</li><li>4</li><li>4</li><li>4</li><li>4</li><li>4</li><li>4</li><li>4</li><li>4</li><li>4</li><li>4</li><li>4</li><li>4</li><li>4</li><li>4</li><li>4</li><li>4</li><li>4</li><li>4</li><li>4</li><li>4</li><li>4</li><li>4</li><li>4</li><li>4</li><li>4</li><li>4</li><li>4</li></ol>\n"
      ],
      "text/latex": [
       "\\begin{enumerate*}\n",
       "\\item 4\n",
       "\\item 4\n",
       "\\item 4\n",
       "\\item 4\n",
       "\\item 4\n",
       "\\item 4\n",
       "\\item 4\n",
       "\\item 4\n",
       "\\item 4\n",
       "\\item 4\n",
       "\\item 4\n",
       "\\item 4\n",
       "\\item 4\n",
       "\\item 4\n",
       "\\item 4\n",
       "\\item 4\n",
       "\\item 4\n",
       "\\item 4\n",
       "\\item 4\n",
       "\\item 4\n",
       "\\item 4\n",
       "\\item 4\n",
       "\\item 4\n",
       "\\item 4\n",
       "\\item 4\n",
       "\\item 4\n",
       "\\item 4\n",
       "\\item 4\n",
       "\\item 4\n",
       "\\item 4\n",
       "\\end{enumerate*}\n"
      ],
      "text/markdown": [
       "1. 4\n",
       "2. 4\n",
       "3. 4\n",
       "4. 4\n",
       "5. 4\n",
       "6. 4\n",
       "7. 4\n",
       "8. 4\n",
       "9. 4\n",
       "10. 4\n",
       "11. 4\n",
       "12. 4\n",
       "13. 4\n",
       "14. 4\n",
       "15. 4\n",
       "16. 4\n",
       "17. 4\n",
       "18. 4\n",
       "19. 4\n",
       "20. 4\n",
       "21. 4\n",
       "22. 4\n",
       "23. 4\n",
       "24. 4\n",
       "25. 4\n",
       "26. 4\n",
       "27. 4\n",
       "28. 4\n",
       "29. 4\n",
       "30. 4\n",
       "\n",
       "\n"
      ],
      "text/plain": [
       " [1] 4 4 4 4 4 4 4 4 4 4 4 4 4 4 4 4 4 4 4 4 4 4 4 4 4 4 4 4 4 4"
      ]
     },
     "metadata": {},
     "output_type": "display_data"
    }
   ],
   "source": [
    "### set number of individuals\n",
    "n <- 30\n",
    "\n",
    "### average intercept and slope\n",
    "beta0 <- 1.0\n",
    "beta1 <- 6.0\n",
    "\n",
    "### true autocorrelation\n",
    "ar.val <- .4\n",
    "\n",
    "### true error SD, intercept SD, slope SD, and intercept-slope cor\n",
    "sigma <- 1.5\n",
    "tau0  <- 2.5\n",
    "tau1  <- 2.0\n",
    "tau01 <- 0.3\n",
    "\n",
    "### maximum number of possible observations\n",
    "m <- 4\n",
    "\n",
    "### simulate number of observations for each individual\n",
    "p <- round(runif(n,4,m))\n",
    "p"
   ]
  },
  {
   "cell_type": "code",
   "execution_count": 162,
   "id": "8d2fa028-2b45-4d6c-8b7f-db5b7d86f75b",
   "metadata": {
    "tags": []
   },
   "outputs": [
    {
     "data": {
      "text/html": [
       "<table class=\"dataframe\">\n",
       "<caption>A matrix: 4 × 30 of type dbl</caption>\n",
       "<tbody>\n",
       "\t<tr><td>1</td><td>1</td><td>1</td><td>1</td><td>1</td><td>1</td><td>1</td><td>1</td><td>1</td><td>1</td><td>⋯</td><td>1</td><td>1</td><td>1</td><td>1</td><td>1</td><td>1</td><td>1</td><td>1</td><td>1</td><td>1</td></tr>\n",
       "\t<tr><td>2</td><td>2</td><td>2</td><td>2</td><td>2</td><td>2</td><td>2</td><td>2</td><td>2</td><td>2</td><td>⋯</td><td>2</td><td>2</td><td>2</td><td>2</td><td>2</td><td>2</td><td>2</td><td>2</td><td>2</td><td>2</td></tr>\n",
       "\t<tr><td>3</td><td>3</td><td>3</td><td>3</td><td>3</td><td>3</td><td>3</td><td>3</td><td>3</td><td>3</td><td>⋯</td><td>3</td><td>3</td><td>3</td><td>3</td><td>3</td><td>3</td><td>3</td><td>3</td><td>3</td><td>3</td></tr>\n",
       "\t<tr><td>4</td><td>4</td><td>4</td><td>4</td><td>4</td><td>4</td><td>4</td><td>4</td><td>4</td><td>4</td><td>⋯</td><td>4</td><td>4</td><td>4</td><td>4</td><td>4</td><td>4</td><td>4</td><td>4</td><td>4</td><td>4</td></tr>\n",
       "</tbody>\n",
       "</table>\n"
      ],
      "text/latex": [
       "A matrix: 4 × 30 of type dbl\n",
       "\\begin{tabular}{lllllllllllllllllllll}\n",
       "\t 1 & 1 & 1 & 1 & 1 & 1 & 1 & 1 & 1 & 1 & ⋯ & 1 & 1 & 1 & 1 & 1 & 1 & 1 & 1 & 1 & 1\\\\\n",
       "\t 2 & 2 & 2 & 2 & 2 & 2 & 2 & 2 & 2 & 2 & ⋯ & 2 & 2 & 2 & 2 & 2 & 2 & 2 & 2 & 2 & 2\\\\\n",
       "\t 3 & 3 & 3 & 3 & 3 & 3 & 3 & 3 & 3 & 3 & ⋯ & 3 & 3 & 3 & 3 & 3 & 3 & 3 & 3 & 3 & 3\\\\\n",
       "\t 4 & 4 & 4 & 4 & 4 & 4 & 4 & 4 & 4 & 4 & ⋯ & 4 & 4 & 4 & 4 & 4 & 4 & 4 & 4 & 4 & 4\\\\\n",
       "\\end{tabular}\n"
      ],
      "text/markdown": [
       "\n",
       "A matrix: 4 × 30 of type dbl\n",
       "\n",
       "| 1 | 1 | 1 | 1 | 1 | 1 | 1 | 1 | 1 | 1 | ⋯ | 1 | 1 | 1 | 1 | 1 | 1 | 1 | 1 | 1 | 1 |\n",
       "| 2 | 2 | 2 | 2 | 2 | 2 | 2 | 2 | 2 | 2 | ⋯ | 2 | 2 | 2 | 2 | 2 | 2 | 2 | 2 | 2 | 2 |\n",
       "| 3 | 3 | 3 | 3 | 3 | 3 | 3 | 3 | 3 | 3 | ⋯ | 3 | 3 | 3 | 3 | 3 | 3 | 3 | 3 | 3 | 3 |\n",
       "| 4 | 4 | 4 | 4 | 4 | 4 | 4 | 4 | 4 | 4 | ⋯ | 4 | 4 | 4 | 4 | 4 | 4 | 4 | 4 | 4 | 4 |\n",
       "\n"
      ],
      "text/plain": [
       "     [,1] [,2] [,3] [,4] [,5] [,6] [,7] [,8] [,9] [,10] [,11] [,12] [,13] [,14]\n",
       "[1,] 1    1    1    1    1    1    1    1    1    1     ⋯     1     1     1    \n",
       "[2,] 2    2    2    2    2    2    2    2    2    2     ⋯     2     2     2    \n",
       "[3,] 3    3    3    3    3    3    3    3    3    3     ⋯     3     3     3    \n",
       "[4,] 4    4    4    4    4    4    4    4    4    4     ⋯     4     4     4    \n",
       "     [,15] [,16] [,17] [,18] [,19] [,20] [,21]\n",
       "[1,] 1     1     1     1     1     1     1    \n",
       "[2,] 2     2     2     2     2     2     2    \n",
       "[3,] 3     3     3     3     3     3     3    \n",
       "[4,] 4     4     4     4     4     4     4    "
      ]
     },
     "metadata": {},
     "output_type": "display_data"
    },
    {
     "data": {
      "text/html": [
       "<table class=\"dataframe\">\n",
       "<caption>A matrix: 2 × 2 of type dbl</caption>\n",
       "<tbody>\n",
       "\t<tr><td>1.0</td><td>0.3</td></tr>\n",
       "\t<tr><td>0.3</td><td>1.0</td></tr>\n",
       "</tbody>\n",
       "</table>\n"
      ],
      "text/latex": [
       "A matrix: 2 × 2 of type dbl\n",
       "\\begin{tabular}{ll}\n",
       "\t 1.0 & 0.3\\\\\n",
       "\t 0.3 & 1.0\\\\\n",
       "\\end{tabular}\n"
      ],
      "text/markdown": [
       "\n",
       "A matrix: 2 × 2 of type dbl\n",
       "\n",
       "| 1.0 | 0.3 |\n",
       "| 0.3 | 1.0 |\n",
       "\n"
      ],
      "text/plain": [
       "     [,1] [,2]\n",
       "[1,] 1.0  0.3 \n",
       "[2,] 0.3  1.0 "
      ]
     },
     "metadata": {},
     "output_type": "display_data"
    },
    {
     "data": {
      "text/html": [
       "<table class=\"dataframe\">\n",
       "<caption>A matrix: 2 × 2 of type dbl</caption>\n",
       "<tbody>\n",
       "\t<tr><td>6.25</td><td>1.5</td></tr>\n",
       "\t<tr><td>1.50</td><td>4.0</td></tr>\n",
       "</tbody>\n",
       "</table>\n"
      ],
      "text/latex": [
       "A matrix: 2 × 2 of type dbl\n",
       "\\begin{tabular}{ll}\n",
       "\t 6.25 & 1.5\\\\\n",
       "\t 1.50 & 4.0\\\\\n",
       "\\end{tabular}\n"
      ],
      "text/markdown": [
       "\n",
       "A matrix: 2 × 2 of type dbl\n",
       "\n",
       "| 6.25 | 1.5 |\n",
       "| 1.50 | 4.0 |\n",
       "\n"
      ],
      "text/plain": [
       "     [,1] [,2]\n",
       "[1,] 6.25 1.5 \n",
       "[2,] 1.50 4.0 "
      ]
     },
     "metadata": {},
     "output_type": "display_data"
    },
    {
     "data": {
      "text/html": [
       "<table class=\"dataframe\">\n",
       "<caption>A matrix: 30 × 2 of type dbl</caption>\n",
       "<tbody>\n",
       "\t<tr><td> 2.2937841</td><td> 2.52379716</td></tr>\n",
       "\t<tr><td> 0.2596296</td><td>-0.28569479</td></tr>\n",
       "\t<tr><td>-0.7962968</td><td> 1.75142670</td></tr>\n",
       "\t<tr><td>-0.8990189</td><td> 2.50867779</td></tr>\n",
       "\t<tr><td> 1.8020129</td><td> 0.59063425</td></tr>\n",
       "\t<tr><td> 3.5844700</td><td> 0.07399679</td></tr>\n",
       "\t<tr><td> 2.7250646</td><td> 1.99011238</td></tr>\n",
       "\t<tr><td> 2.7513362</td><td>-1.14447428</td></tr>\n",
       "\t<tr><td> 1.7487936</td><td>-0.04599524</td></tr>\n",
       "\t<tr><td>-2.8630849</td><td>-0.95872639</td></tr>\n",
       "\t<tr><td> 0.3986169</td><td> 2.82011572</td></tr>\n",
       "\t<tr><td>-3.8267203</td><td>-1.73492656</td></tr>\n",
       "\t<tr><td>-2.9386670</td><td>-0.16413859</td></tr>\n",
       "\t<tr><td>-2.4683529</td><td>-3.82046565</td></tr>\n",
       "\t<tr><td>-4.4131447</td><td>-2.76626956</td></tr>\n",
       "\t<tr><td> 4.3625708</td><td> 2.18732081</td></tr>\n",
       "\t<tr><td>-4.0526510</td><td>-1.16129835</td></tr>\n",
       "\t<tr><td> 0.9837712</td><td> 2.20503422</td></tr>\n",
       "\t<tr><td> 0.7246936</td><td>-0.21688367</td></tr>\n",
       "\t<tr><td>-2.5740766</td><td>-1.69988238</td></tr>\n",
       "\t<tr><td>-1.7306367</td><td>-2.43140925</td></tr>\n",
       "\t<tr><td>-0.1075624</td><td>-1.10339654</td></tr>\n",
       "\t<tr><td> 1.0566797</td><td> 0.17858585</td></tr>\n",
       "\t<tr><td>-3.6528456</td><td>-1.49565088</td></tr>\n",
       "\t<tr><td>-2.3236959</td><td>-3.74086819</td></tr>\n",
       "\t<tr><td> 4.7788775</td><td> 0.55238542</td></tr>\n",
       "\t<tr><td> 0.8059425</td><td> 1.98113087</td></tr>\n",
       "\t<tr><td> 1.7598269</td><td>-0.40526012</td></tr>\n",
       "\t<tr><td> 0.7378956</td><td>-0.58574799</td></tr>\n",
       "\t<tr><td>-1.2212333</td><td> 0.72846869</td></tr>\n",
       "</tbody>\n",
       "</table>\n"
      ],
      "text/latex": [
       "A matrix: 30 × 2 of type dbl\n",
       "\\begin{tabular}{ll}\n",
       "\t  2.2937841 &  2.52379716\\\\\n",
       "\t  0.2596296 & -0.28569479\\\\\n",
       "\t -0.7962968 &  1.75142670\\\\\n",
       "\t -0.8990189 &  2.50867779\\\\\n",
       "\t  1.8020129 &  0.59063425\\\\\n",
       "\t  3.5844700 &  0.07399679\\\\\n",
       "\t  2.7250646 &  1.99011238\\\\\n",
       "\t  2.7513362 & -1.14447428\\\\\n",
       "\t  1.7487936 & -0.04599524\\\\\n",
       "\t -2.8630849 & -0.95872639\\\\\n",
       "\t  0.3986169 &  2.82011572\\\\\n",
       "\t -3.8267203 & -1.73492656\\\\\n",
       "\t -2.9386670 & -0.16413859\\\\\n",
       "\t -2.4683529 & -3.82046565\\\\\n",
       "\t -4.4131447 & -2.76626956\\\\\n",
       "\t  4.3625708 &  2.18732081\\\\\n",
       "\t -4.0526510 & -1.16129835\\\\\n",
       "\t  0.9837712 &  2.20503422\\\\\n",
       "\t  0.7246936 & -0.21688367\\\\\n",
       "\t -2.5740766 & -1.69988238\\\\\n",
       "\t -1.7306367 & -2.43140925\\\\\n",
       "\t -0.1075624 & -1.10339654\\\\\n",
       "\t  1.0566797 &  0.17858585\\\\\n",
       "\t -3.6528456 & -1.49565088\\\\\n",
       "\t -2.3236959 & -3.74086819\\\\\n",
       "\t  4.7788775 &  0.55238542\\\\\n",
       "\t  0.8059425 &  1.98113087\\\\\n",
       "\t  1.7598269 & -0.40526012\\\\\n",
       "\t  0.7378956 & -0.58574799\\\\\n",
       "\t -1.2212333 &  0.72846869\\\\\n",
       "\\end{tabular}\n"
      ],
      "text/markdown": [
       "\n",
       "A matrix: 30 × 2 of type dbl\n",
       "\n",
       "|  2.2937841 |  2.52379716 |\n",
       "|  0.2596296 | -0.28569479 |\n",
       "| -0.7962968 |  1.75142670 |\n",
       "| -0.8990189 |  2.50867779 |\n",
       "|  1.8020129 |  0.59063425 |\n",
       "|  3.5844700 |  0.07399679 |\n",
       "|  2.7250646 |  1.99011238 |\n",
       "|  2.7513362 | -1.14447428 |\n",
       "|  1.7487936 | -0.04599524 |\n",
       "| -2.8630849 | -0.95872639 |\n",
       "|  0.3986169 |  2.82011572 |\n",
       "| -3.8267203 | -1.73492656 |\n",
       "| -2.9386670 | -0.16413859 |\n",
       "| -2.4683529 | -3.82046565 |\n",
       "| -4.4131447 | -2.76626956 |\n",
       "|  4.3625708 |  2.18732081 |\n",
       "| -4.0526510 | -1.16129835 |\n",
       "|  0.9837712 |  2.20503422 |\n",
       "|  0.7246936 | -0.21688367 |\n",
       "| -2.5740766 | -1.69988238 |\n",
       "| -1.7306367 | -2.43140925 |\n",
       "| -0.1075624 | -1.10339654 |\n",
       "|  1.0566797 |  0.17858585 |\n",
       "| -3.6528456 | -1.49565088 |\n",
       "| -2.3236959 | -3.74086819 |\n",
       "|  4.7788775 |  0.55238542 |\n",
       "|  0.8059425 |  1.98113087 |\n",
       "|  1.7598269 | -0.40526012 |\n",
       "|  0.7378956 | -0.58574799 |\n",
       "| -1.2212333 |  0.72846869 |\n",
       "\n"
      ],
      "text/plain": [
       "      [,1]       [,2]       \n",
       " [1,]  2.2937841  2.52379716\n",
       " [2,]  0.2596296 -0.28569479\n",
       " [3,] -0.7962968  1.75142670\n",
       " [4,] -0.8990189  2.50867779\n",
       " [5,]  1.8020129  0.59063425\n",
       " [6,]  3.5844700  0.07399679\n",
       " [7,]  2.7250646  1.99011238\n",
       " [8,]  2.7513362 -1.14447428\n",
       " [9,]  1.7487936 -0.04599524\n",
       "[10,] -2.8630849 -0.95872639\n",
       "[11,]  0.3986169  2.82011572\n",
       "[12,] -3.8267203 -1.73492656\n",
       "[13,] -2.9386670 -0.16413859\n",
       "[14,] -2.4683529 -3.82046565\n",
       "[15,] -4.4131447 -2.76626956\n",
       "[16,]  4.3625708  2.18732081\n",
       "[17,] -4.0526510 -1.16129835\n",
       "[18,]  0.9837712  2.20503422\n",
       "[19,]  0.7246936 -0.21688367\n",
       "[20,] -2.5740766 -1.69988238\n",
       "[21,] -1.7306367 -2.43140925\n",
       "[22,] -0.1075624 -1.10339654\n",
       "[23,]  1.0566797  0.17858585\n",
       "[24,] -3.6528456 -1.49565088\n",
       "[25,] -2.3236959 -3.74086819\n",
       "[26,]  4.7788775  0.55238542\n",
       "[27,]  0.8059425  1.98113087\n",
       "[28,]  1.7598269 -0.40526012\n",
       "[29,]  0.7378956 -0.58574799\n",
       "[30,] -1.2212333  0.72846869"
      ]
     },
     "metadata": {},
     "output_type": "display_data"
    },
    {
     "ename": "ERROR",
     "evalue": "Error in `$<-.data.frame`(`*tmp*`, eij, value = structure(c(-1.2087202568567, : replacement has 4 rows, data has 120\n",
     "output_type": "error",
     "traceback": [
      "Error in `$<-.data.frame`(`*tmp*`, eij, value = structure(c(-1.2087202568567, : replacement has 4 rows, data has 120\nTraceback:\n",
      "1. `$<-`(`*tmp*`, eij, value = structure(c(-1.2087202568567, -0.505895950591603, \n . -0.453061277392968, 0.379381592171826, -1.02810746270444, -1.82167818749222, \n . -1.35765410633214, 2.16645876247319, -0.574040616800716, 1.4640706237771, \n . 2.71031904917001, 0.803710314423489, -1.43735910157217, 1.02148491421287, \n . -0.546646301407277, -0.617069548078588, -1.91138097673621, 0.963334502104769, \n . 2.60995736921479, 0.717107799250505, 1.09390509647013, 0.888148907372412, \n . 0.0182442732977014, 1.47727875872674, -1.84464815274165, -0.196496355203698, \n . -0.453936110321951, -0.484370085344969, -0.893732173749701, 0.680418733652621, \n . -0.452602997552879, -1.41797531288842, -5.56676542877834, -4.26102961290414, \n . -2.75486733829596, 1.13605437718925, 2.87381398177432, -0.604813652765527, \n . 3.59954880381286, 0.0998079287939658, -0.745763180804929, 1.47477857257604, \n . 2.8774142206081, 1.2270186771886, -2.74715452977433, -2.53492099408953, \n . -1.34362095021838, -1.31980496649349, 1.95750567673057, 1.73747464717269, \n . 1.46692234727352, 1.61681034030103, 1.2441641460232, 1.09425279150992, \n . 2.7977427652407, 1.0789842571108, 0.351394618152692, 0.406150097313438, \n . -0.983872735402467, 2.22901315960294, 0.0548415459952592, 3.49497359516803, \n . 1.08505767385859, 1.77600935402207, 3.08028219952247, 3.79191654287321, \n . 0.529434294578442, 1.81470449924492, -0.930941140574217, 0.0975627189494275, \n . 0.761494993207122, -1.17310229150945, 0.632860450384685, 0.503289857296331, \n . -2.09931473319026, 2.33846524715313, 1.27557975526467, -2.34802691420492, \n . -0.620725004991983, -1.33410082925145, -0.20976637462271, 1.03286863709843, \n . 0.711812420849875, 1.52139944416165, 2.51222630063176, 0.113584977210111, \n . 0.0823250467951687, 0.27737105098787, -1.85968254041073, -1.608078507134, \n . -1.03416801161585, -0.23841403411932, 1.56438946162154, -0.615691831328426, \n . 3.24259699903252, 0.982118257618419, 2.0009893952303, -0.150109869395633, \n . -1.80988143204883, 0.451779660758271, 0.483032656005458, -0.226982779794594, \n . -0.118030231925663, -0.687203248159906, -0.404723016180035, 0.267797356497224, \n . 0.213359430641337, 2.20987047233565, 1.73312164351008, -0.816965393998758, \n . 0.986981811175132, -0.138627224245529, 1.9800307452238, -1.00182159759425, \n . -1.20313287311398, 0.238426248030562, -0.293577626038741, -0.865208072506459, \n . -0.488149912226646, -0.318637759959145), dim = c(4L, 30L)))",
      "2. `$<-.data.frame`(`*tmp*`, eij, value = structure(c(-1.2087202568567, \n . -0.505895950591603, -0.453061277392968, 0.379381592171826, -1.02810746270444, \n . -1.82167818749222, -1.35765410633214, 2.16645876247319, -0.574040616800716, \n . 1.4640706237771, 2.71031904917001, 0.803710314423489, -1.43735910157217, \n . 1.02148491421287, -0.546646301407277, -0.617069548078588, -1.91138097673621, \n . 0.963334502104769, 2.60995736921479, 0.717107799250505, 1.09390509647013, \n . 0.888148907372412, 0.0182442732977014, 1.47727875872674, -1.84464815274165, \n . -0.196496355203698, -0.453936110321951, -0.484370085344969, -0.893732173749701, \n . 0.680418733652621, -0.452602997552879, -1.41797531288842, -5.56676542877834, \n . -4.26102961290414, -2.75486733829596, 1.13605437718925, 2.87381398177432, \n . -0.604813652765527, 3.59954880381286, 0.0998079287939658, -0.745763180804929, \n . 1.47477857257604, 2.8774142206081, 1.2270186771886, -2.74715452977433, \n . -2.53492099408953, -1.34362095021838, -1.31980496649349, 1.95750567673057, \n . 1.73747464717269, 1.46692234727352, 1.61681034030103, 1.2441641460232, \n . 1.09425279150992, 2.7977427652407, 1.0789842571108, 0.351394618152692, \n . 0.406150097313438, -0.983872735402467, 2.22901315960294, 0.0548415459952592, \n . 3.49497359516803, 1.08505767385859, 1.77600935402207, 3.08028219952247, \n . 3.79191654287321, 0.529434294578442, 1.81470449924492, -0.930941140574217, \n . 0.0975627189494275, 0.761494993207122, -1.17310229150945, 0.632860450384685, \n . 0.503289857296331, -2.09931473319026, 2.33846524715313, 1.27557975526467, \n . -2.34802691420492, -0.620725004991983, -1.33410082925145, -0.20976637462271, \n . 1.03286863709843, 0.711812420849875, 1.52139944416165, 2.51222630063176, \n . 0.113584977210111, 0.0823250467951687, 0.27737105098787, -1.85968254041073, \n . -1.608078507134, -1.03416801161585, -0.23841403411932, 1.56438946162154, \n . -0.615691831328426, 3.24259699903252, 0.982118257618419, 2.0009893952303, \n . -0.150109869395633, -1.80988143204883, 0.451779660758271, 0.483032656005458, \n . -0.226982779794594, -0.118030231925663, -0.687203248159906, -0.404723016180035, \n . 0.267797356497224, 0.213359430641337, 2.20987047233565, 1.73312164351008, \n . -0.816965393998758, 0.986981811175132, -0.138627224245529, 1.9800307452238, \n . -1.00182159759425, -1.20313287311398, 0.238426248030562, -0.293577626038741, \n . -0.865208072506459, -0.488149912226646, -0.318637759959145), dim = c(4L, \n . 30L)))",
      "3. stop(sprintf(ngettext(N, \"replacement has %d row, data has %d\", \n .     \"replacement has %d rows, data has %d\"), N, nrows), domain = NA)"
     ]
    }
   ],
   "source": [
    "### simulate observation moments (assume everybody has 1st obs)\n",
    "obs <- unlist(sapply(p, function(x) c(1, sort(sample(2:m, x-1, replace=FALSE)))))\n",
    "obs\n",
    "### set up data frame\n",
    "dat <- data.frame(id=rep(1:n, times=p), obs=obs)\n",
    "\n",
    "### simulate (correlated) random effects for intercepts and slopes\n",
    "mu  <- c(0,0)\n",
    "S   <- matrix(c(1, tau01, tau01, 1), nrow=2)\n",
    "S \n",
    "                     \n",
    "                     \n",
    "tau <- c(tau0, tau1)\n",
    "S   <- diag(tau) %*% S %*% diag(tau)\n",
    "S\n",
    "U   <- mvrnorm(n, mu=mu, Sigma=S)\n",
    "U\n",
    "### simulate AR(1) errors and then the actual outcomes\n",
    "dat$eij <- unlist(sapply(p, function(x) arima.sim(model=list(ar=ar.val), n=x) * sqrt(1-ar.val^2) * sigma))\n",
    "dat$yij <- (beta0 + rep(U[,1], times=p)) + (beta1 + rep(U[,2], times=p)) * log(dat$obs) + dat$eij\n",
    "\n",
    "### note: use arima.sim(model=list(ar=ar.val), n=x) * sqrt(1-ar.val^2) * sigma\n",
    "### construction, so that the true error SD is equal to sigma\n",
    "\n",
    "### create grouped data object\n",
    "dat <- groupedData(yij ~ obs | id, data=dat)\n",
    "\n",
    "### profile plots\n",
    "plot(dat, pch=19, cex=.5)\n",
    "\n",
    "### fit corresponding growth model\n",
    "res <- lme(yij ~ log(obs), random = ~ log(obs) | id, correlation = corAR1(form = ~ 1 | id), data=dat)\n",
    "summary(res)"
   ]
  },
  {
   "cell_type": "code",
   "execution_count": 736,
   "id": "56cb56ee-530d-42bb-9e0f-6312469d854b",
   "metadata": {
    "tags": []
   },
   "outputs": [],
   "source": []
  },
  {
   "cell_type": "code",
   "execution_count": 736,
   "id": "d8268cc2-f6bd-4e4d-8e46-08d81b2877ad",
   "metadata": {
    "tags": []
   },
   "outputs": [],
   "source": []
  },
  {
   "cell_type": "code",
   "execution_count": 736,
   "id": "b49cb9f1-89a8-43a8-9c2e-d7e92917658c",
   "metadata": {
    "tags": []
   },
   "outputs": [],
   "source": []
  },
  {
   "cell_type": "code",
   "execution_count": 736,
   "id": "90e83742-edc6-4b94-be59-ce85b60fd3e1",
   "metadata": {
    "tags": []
   },
   "outputs": [],
   "source": []
  },
  {
   "cell_type": "code",
   "execution_count": 736,
   "id": "c114cba0-7091-4823-b3f8-51ac94c15508",
   "metadata": {
    "tags": []
   },
   "outputs": [],
   "source": []
  },
  {
   "cell_type": "code",
   "execution_count": 736,
   "id": "1d779d3a-fceb-4984-b8e0-59e783488a19",
   "metadata": {
    "tags": []
   },
   "outputs": [],
   "source": []
  },
  {
   "cell_type": "code",
   "execution_count": 736,
   "id": "b048c890-7e26-4647-b210-ded7713aa206",
   "metadata": {
    "tags": []
   },
   "outputs": [],
   "source": []
  },
  {
   "cell_type": "code",
   "execution_count": 736,
   "id": "808ede1e-ff4a-4510-bf6c-8d1e337e1868",
   "metadata": {
    "tags": []
   },
   "outputs": [],
   "source": []
  },
  {
   "cell_type": "code",
   "execution_count": 736,
   "id": "f198ad7a-858f-4945-80d6-176e3ac722dc",
   "metadata": {
    "tags": []
   },
   "outputs": [],
   "source": []
  },
  {
   "cell_type": "code",
   "execution_count": 736,
   "id": "f0d3186b-9a92-440d-bb72-1fc22638fef4",
   "metadata": {
    "tags": []
   },
   "outputs": [],
   "source": []
  },
  {
   "cell_type": "code",
   "execution_count": 736,
   "id": "d808b050-c8b6-4974-8e24-8735fad1ea6e",
   "metadata": {
    "tags": []
   },
   "outputs": [],
   "source": []
  },
  {
   "cell_type": "code",
   "execution_count": 736,
   "id": "506dba57-e4ed-4111-9b34-2c7430d19194",
   "metadata": {
    "tags": []
   },
   "outputs": [],
   "source": [
    "library(dplyr)\n",
    "library(readxl)\n",
    "organizace <- read_excel(\"organizace.xlsx\")\n",
    "sportovci <- read_excel(\"sportovci.xlsx\")\n",
    "\n",
    "\n",
    "df <- organizace %>%\n",
    "    filter(Stav=='Ověřeno') %>%\n",
    "    left_join(sportovci%>%select(IČO, Počet.sportovců, Počet.trenérů), by='IČO') \n",
    "\n",
    "\n",
    "#Které jsou čtyři nejčastější právní formy sportovních organizací? \n",
    "df %>%\n",
    "    group_by(Právní.forma) %>%\n",
    "    tally()\n",
    "\n",
    "#Liší se pořadí této čtveřice v jednotlivých krajích?\n",
    "df %>%\n",
    "    group_by(Kraj, Právní.forma) %>%\n",
    "    tally()\n",
    "\n",
    "#Pro nejčastější typ organizace určete podíl těch, které mají\n",
    "#alespoň jednoho registrovaného sportovce, ale žádného trenéra,\n",
    "df %>%\n",
    "    filter(Typ.organizace=='Klub / TJ', Počet.sportovců>0, Počet.trenérů==0) %>%\n",
    "    tally()\n",
    "\n",
    "#alespoň jednoho registrovaného trenéra, ale žádného sportovce.\n",
    "df %>%\n",
    "    filter(Typ.organizace=='Klub / TJ', Počet.sportovců==0, Počet.trenérů>0) %>%\n",
    "    tally()\n",
    "\n",
    "#Zjistěte, kolik sportovních organizací v jednotlivých krajích ve svém názvu obsahují řetězec “šach” nebo “bridž” bez ohledu na velikost písmen.\n",
    "df %>%\n",
    "    group_by(Kraj) %>%\n",
    "    mutate(Název = tolower(Název)) %>%\n",
    "    filter(grepl('šach|bridž', Název))  %>%\n",
    "    tally()"
   ]
  },
  {
   "cell_type": "code",
   "execution_count": 736,
   "id": "40b8832e-fc78-4257-af7a-7a6da4705c7a",
   "metadata": {
    "tags": []
   },
   "outputs": [],
   "source": []
  },
  {
   "cell_type": "code",
   "execution_count": 736,
   "id": "ca5bf6b9-b5f1-493a-9de3-dd48e145b4b1",
   "metadata": {
    "tags": []
   },
   "outputs": [],
   "source": []
  },
  {
   "cell_type": "code",
   "execution_count": 736,
   "id": "aedae381-c50a-432b-92c3-f1e1737a9213",
   "metadata": {
    "tags": []
   },
   "outputs": [],
   "source": []
  },
  {
   "cell_type": "code",
   "execution_count": 736,
   "id": "182c125d-2a3a-46f4-b5fd-735f5f8bcf23",
   "metadata": {
    "tags": []
   },
   "outputs": [],
   "source": []
  },
  {
   "cell_type": "code",
   "execution_count": 736,
   "id": "0a9461b2-0e2e-4517-aa92-2a28539caa7e",
   "metadata": {
    "tags": []
   },
   "outputs": [],
   "source": []
  },
  {
   "cell_type": "code",
   "execution_count": 736,
   "id": "0c43b7ba-47c8-4fba-b3d8-949c29aad0fb",
   "metadata": {
    "tags": []
   },
   "outputs": [],
   "source": []
  },
  {
   "cell_type": "code",
   "execution_count": 736,
   "id": "cd11c918-337e-4c5f-a9ad-b1ee9873d158",
   "metadata": {
    "tags": []
   },
   "outputs": [],
   "source": []
  },
  {
   "cell_type": "code",
   "execution_count": 736,
   "id": "cbc49868-98f7-434f-9d80-34f3c7963854",
   "metadata": {
    "tags": []
   },
   "outputs": [],
   "source": []
  },
  {
   "cell_type": "code",
   "execution_count": 736,
   "id": "c67ecc19-c4b6-49fb-b1c6-e4fcbb9cc47c",
   "metadata": {
    "tags": []
   },
   "outputs": [],
   "source": []
  },
  {
   "cell_type": "code",
   "execution_count": null,
   "id": "7a530ca6-7a6a-4170-a57b-53ade67ebd68",
   "metadata": {
    "tags": []
   },
   "outputs": [],
   "source": []
  }
 ],
 "metadata": {
  "kernelspec": {
   "display_name": "R",
   "language": "R",
   "name": "ir"
  },
  "language_info": {
   "codemirror_mode": "r",
   "file_extension": ".r",
   "mimetype": "text/x-r-source",
   "name": "R",
   "pygments_lexer": "r",
   "version": "4.4.1"
  }
 },
 "nbformat": 4,
 "nbformat_minor": 5
}
